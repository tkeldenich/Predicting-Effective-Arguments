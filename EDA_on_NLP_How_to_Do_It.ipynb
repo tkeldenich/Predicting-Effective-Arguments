{
  "cells": [
    {
      "cell_type": "markdown",
      "metadata": {
        "id": "view-in-github",
        "colab_type": "text"
      },
      "source": [
        "<a href=\"https://colab.research.google.com/github/tkeldenich/Predicting-Effective-Arguments/blob/main/EDA_on_NLP_How_to_Do_It.ipynb\" target=\"_parent\"><img src=\"https://colab.research.google.com/assets/colab-badge.svg\" alt=\"Open In Colab\"/></a>"
      ]
    },
    {
      "cell_type": "markdown",
      "id": "oVQH16HWWidV",
      "metadata": {
        "id": "oVQH16HWWidV"
      },
      "source": [
        "# **EDA on NLP How to Do It ? – Best Tutorial Simple**"
      ]
    },
    {
      "cell_type": "markdown",
      "id": "FUlHwWIeoD72",
      "metadata": {
        "id": "FUlHwWIeoD72"
      },
      "source": [
        "- [English Article](https://inside-machinelearning.com/en/eda-nlp/)\n",
        "- [French Article](https://inside-machinelearning.com/eda-sur-nlp/)"
      ]
    },
    {
      "cell_type": "markdown",
      "id": "a6zcUEfbWpOQ",
      "metadata": {
        "id": "a6zcUEfbWpOQ"
      },
      "source": [
        "Today, let’s see together how to apply Exploratory Data Analysis (EDA) on a NLP dataset: feedback-prize-effectiveness.\n",
        "\n",
        "In a previous article we saw how to do EDA to [prevent environmental disasters.](https://inside-machinelearning.com/en/data-science-and-environment/) Thanks to meteorological data, we analyzed [the causes of forest fires.](https://inside-machinelearning.com/en/data-science-and-environment/)\n",
        "\n",
        "**Here I propose to apply the same analysis on text data thanks to the** [feedback-prize-effectiveness](https://github.com/tkeldenich/Predicting-Effective-Arguments) **dataset.**\n",
        "\n",
        "This dataset is taken from the Kaggle competition of the same name: [Feedback Prize – Predicting Effective Arguments.](https://www.kaggle.com/competitions/feedback-prize-effectiveness/overview)\n",
        "\n",
        "The main objective of this competition is to create a Machine Learning algorithm able to predict the effectiveness of a discourse. Here we will see in detail the Exploratory Data Analysis (EDA) that will allow us to understand our dataset."
      ]
    },
    {
      "cell_type": "markdown",
      "id": "Hv_diKIOXCB4",
      "metadata": {
        "id": "Hv_diKIOXCB4"
      },
      "source": [
        "## **Data**"
      ]
    },
    {
      "cell_type": "markdown",
      "id": "-yCLfrodXEiK",
      "metadata": {
        "id": "-yCLfrodXEiK"
      },
      "source": [
        "First thing to do, download the dataset. Either by registering to the [Kaggle](https://www.kaggle.com/competitions/feedback-prize-effectiveness/overview) contest, or by downloading it on [this Github.](https://github.com/tkeldenich/Predicting-Effective-Arguments)\n",
        "\n",
        "Then you can open it with Pandas and display dimensions:"
      ]
    },
    {
      "cell_type": "code",
      "execution_count": null,
      "id": "b7c6112e",
      "metadata": {
        "colab": {
          "base_uri": "https://localhost:8080/"
        },
        "id": "b7c6112e",
        "outputId": "fe751b14-a54c-4663-eb2f-69cbbb9f1db5"
      },
      "outputs": [
        {
          "data": {
            "text/plain": [
              "(36765, 5)"
            ]
          },
          "execution_count": 1,
          "metadata": {},
          "output_type": "execute_result"
        }
      ],
      "source": [
        "import pandas as pd\n",
        "\n",
        "df = pd.read_csv(\"train.csv\")\n",
        "df.shape"
      ]
    },
    {
      "cell_type": "markdown",
      "id": "uSI5Y1iCXT3F",
      "metadata": {
        "id": "uSI5Y1iCXT3F"
      },
      "source": [
        "We have 36.765 rows so 36.765 discourses for 5 columns.\n",
        "\n",
        "Now let’s see what these columns represent by displaying their types:"
      ]
    },
    {
      "cell_type": "code",
      "execution_count": null,
      "id": "6383dad7",
      "metadata": {
        "colab": {
          "base_uri": "https://localhost:8080/"
        },
        "id": "6383dad7",
        "outputId": "336f3de5-eac3-4128-92fb-ff6a288db546"
      },
      "outputs": [
        {
          "data": {
            "text/plain": [
              "discourse_id               object\n",
              "essay_id                   object\n",
              "discourse_text             object\n",
              "discourse_type             object\n",
              "discourse_effectiveness    object\n",
              "dtype: object"
            ]
          },
          "execution_count": 2,
          "metadata": {},
          "output_type": "execute_result"
        }
      ],
      "source": [
        "df.dtypes"
      ]
    },
    {
      "cell_type": "markdown",
      "id": "1StQMQ56XV6q",
      "metadata": {
        "id": "1StQMQ56XV6q"
      },
      "source": [
        "I display here the columns and their description:\n",
        "\n",
        "- `discourse_id` – object – discourse ID\n",
        "- `essay_id` – object – ID of the essay (an essay can be composed of several discourses)\n",
        "- `discourse_text` – object – Discourse text\n",
        "- `discourse_type` – object – Type of discourse\n",
        "- `discourse_effectiveness` – object – Effectiveness of the discourse\n",
        "\n",
        "2 ID columns, one column representing text and 2 columns for Labels. The one we are most interested in is `discourse_effectiveness` as it is the target to predict.\n",
        "\n",
        "Then we can display our data:"
      ]
    },
    {
      "cell_type": "code",
      "execution_count": null,
      "id": "788340cf",
      "metadata": {
        "colab": {
          "base_uri": "https://localhost:8080/",
          "height": 333
        },
        "id": "788340cf",
        "outputId": "abdb5eb8-7d1b-4296-9286-3a4e5ab7f125"
      },
      "outputs": [
        {
          "data": {
            "text/html": [
              "<div>\n",
              "<style scoped>\n",
              "    .dataframe tbody tr th:only-of-type {\n",
              "        vertical-align: middle;\n",
              "    }\n",
              "\n",
              "    .dataframe tbody tr th {\n",
              "        vertical-align: top;\n",
              "    }\n",
              "\n",
              "    .dataframe thead th {\n",
              "        text-align: right;\n",
              "    }\n",
              "</style>\n",
              "<table border=\"1\" class=\"dataframe\">\n",
              "  <thead>\n",
              "    <tr style=\"text-align: right;\">\n",
              "      <th></th>\n",
              "      <th>discourse_id</th>\n",
              "      <th>essay_id</th>\n",
              "      <th>discourse_text</th>\n",
              "      <th>discourse_type</th>\n",
              "      <th>discourse_effectiveness</th>\n",
              "    </tr>\n",
              "  </thead>\n",
              "  <tbody>\n",
              "    <tr>\n",
              "      <th>0</th>\n",
              "      <td>0013cc385424</td>\n",
              "      <td>007ACE74B050</td>\n",
              "      <td>Hi, i'm Isaac, i'm going to be writing about h...</td>\n",
              "      <td>Lead</td>\n",
              "      <td>Adequate</td>\n",
              "    </tr>\n",
              "    <tr>\n",
              "      <th>1</th>\n",
              "      <td>9704a709b505</td>\n",
              "      <td>007ACE74B050</td>\n",
              "      <td>On my perspective, I think that the face is a ...</td>\n",
              "      <td>Position</td>\n",
              "      <td>Adequate</td>\n",
              "    </tr>\n",
              "    <tr>\n",
              "      <th>2</th>\n",
              "      <td>c22adee811b6</td>\n",
              "      <td>007ACE74B050</td>\n",
              "      <td>I think that the face is a natural landform be...</td>\n",
              "      <td>Claim</td>\n",
              "      <td>Adequate</td>\n",
              "    </tr>\n",
              "    <tr>\n",
              "      <th>3</th>\n",
              "      <td>a10d361e54e4</td>\n",
              "      <td>007ACE74B050</td>\n",
              "      <td>If life was on Mars, we would know by now. The...</td>\n",
              "      <td>Evidence</td>\n",
              "      <td>Adequate</td>\n",
              "    </tr>\n",
              "    <tr>\n",
              "      <th>4</th>\n",
              "      <td>db3e453ec4e2</td>\n",
              "      <td>007ACE74B050</td>\n",
              "      <td>People thought that the face was formed by ali...</td>\n",
              "      <td>Counterclaim</td>\n",
              "      <td>Adequate</td>\n",
              "    </tr>\n",
              "  </tbody>\n",
              "</table>\n",
              "</div>"
            ],
            "text/plain": [
              "   discourse_id      essay_id  \\\n",
              "0  0013cc385424  007ACE74B050   \n",
              "1  9704a709b505  007ACE74B050   \n",
              "2  c22adee811b6  007ACE74B050   \n",
              "3  a10d361e54e4  007ACE74B050   \n",
              "4  db3e453ec4e2  007ACE74B050   \n",
              "\n",
              "                                      discourse_text discourse_type  \\\n",
              "0  Hi, i'm Isaac, i'm going to be writing about h...           Lead   \n",
              "1  On my perspective, I think that the face is a ...       Position   \n",
              "2  I think that the face is a natural landform be...          Claim   \n",
              "3  If life was on Mars, we would know by now. The...       Evidence   \n",
              "4  People thought that the face was formed by ali...   Counterclaim   \n",
              "\n",
              "  discourse_effectiveness  \n",
              "0                Adequate  \n",
              "1                Adequate  \n",
              "2                Adequate  \n",
              "3                Adequate  \n",
              "4                Adequate  "
            ]
          },
          "execution_count": 3,
          "metadata": {},
          "output_type": "execute_result"
        }
      ],
      "source": [
        "df.head()"
      ]
    },
    {
      "cell_type": "markdown",
      "id": "gNpWVMcmXn__",
      "metadata": {
        "id": "gNpWVMcmXn__"
      },
      "source": [
        "Now that we have a good overview of the dataset, we can start EDA!\n",
        "\n",
        "**To do this, we’ll go through the classic steps of the process:**\n",
        "\n",
        "- Understand our dataset with the **Univariate Analysis**\n",
        "- Drawing hypotheses with the **Multivariate Analysis**"
      ]
    },
    {
      "cell_type": "markdown",
      "id": "0068a4bd",
      "metadata": {
        "id": "0068a4bd"
      },
      "source": [
        "## **Univariate Analysis**"
      ]
    },
    {
      "cell_type": "markdown",
      "id": "xYOvaPzdXyaT",
      "metadata": {
        "id": "xYOvaPzdXyaT"
      },
      "source": [
        "Univariate analysis is the fact of examining each feature separately.\n",
        "\n",
        "This will allow us to get a deeper understanding of the dataset.\n",
        "\n",
        "> Here, we are in the comprehension phase.\n",
        "\n",
        "**The question associated with the Univariate Analysis is: What is the characteristics of the data that compose our dataset?**\n",
        "\n"
      ]
    },
    {
      "cell_type": "markdown",
      "id": "b2c7c35f",
      "metadata": {
        "id": "b2c7c35f"
      },
      "source": [
        "### **Target**"
      ]
    },
    {
      "cell_type": "markdown",
      "id": "Bz_KQYMCX2AP",
      "metadata": {
        "id": "Bz_KQYMCX2AP"
      },
      "source": [
        "As we noticed above, the most interesting column for us is the target `discourse_effectiveness`. This column indicates the effectiveness of a discourse.\n",
        "\n",
        "Each line, each discourse, can have a different effectiveness. We classify them according to 3 levels:\n",
        "\n",
        "- `Ineffective`\n",
        "- `Adequate`\n",
        "- `Effective`\n",
        "\n",
        "Let’s see how these 3 classes are distributed in our dataset:"
      ]
    },
    {
      "cell_type": "code",
      "execution_count": null,
      "id": "2925d703",
      "metadata": {
        "colab": {
          "base_uri": "https://localhost:8080/",
          "height": 393
        },
        "id": "2925d703",
        "outputId": "fba3de58-b5cf-4ace-ee8f-4e6aa73f5fec"
      },
      "outputs": [
        {
          "name": "stdout",
          "output_type": "stream",
          "text": [
            "Adequate       0.570570\n",
            "Effective      0.253665\n",
            "Ineffective    0.175765\n",
            "Name: discourse_effectiveness, dtype: float64\n"
          ]
        },
        {
          "data": {
            "image/png": "[encoded data removed]",
            "text/plain": [
              "<Figure size 1008x360 with 2 Axes>"
            ]
          },
          "metadata": {
            "needs_background": "light"
          },
          "output_type": "display_data"
        }
      ],
      "source": [
        "import seaborn as sns\n",
        "import matplotlib.pyplot as plt\n",
        "\n",
        "stats_target = df['discourse_effectiveness'].value_counts(normalize=True)\n",
        "print(stats_target)\n",
        "\n",
        "plt.figure(figsize=(14,5))\n",
        "plt.subplot(1,2,1)\n",
        "sns.countplot(data=df,y='discourse_effectiveness')\n",
        "plt.subplot(1,2,2)\n",
        "stats_target.plot.bar(rot=25)\n",
        "plt.ylabel('discourse_effectiveness')\n",
        "plt.xlabel('% distribution per category')\n",
        "plt.tight_layout()\n",
        "plt.show()"
      ]
    },
    {
      "cell_type": "markdown",
      "id": "CgT9HM7GYRvM",
      "metadata": {
        "id": "CgT9HM7GYRvM"
      },
      "source": [
        "**Here you can see the numerical distribution, but also the statistical one which is easier to analyze.**\n",
        "\n",
        "57% of the discourses are `Adequate`, the rest are either `Effective` or `Ineffective`.\n",
        "\n",
        "Ideally, we would have needed more `Ineffective` discourses to have a better balanced and therefore generalizable dataset. Since we have no influence on the data, let’s continue with what we have!"
      ]
    },
    {
      "cell_type": "markdown",
      "id": "8ce2f92f",
      "metadata": {
        "id": "8ce2f92f"
      },
      "source": [
        "### **Categorical Data**"
      ]
    },
    {
      "cell_type": "markdown",
      "id": "uRFrAIdeYdVx",
      "metadata": {
        "id": "uRFrAIdeYdVx"
      },
      "source": [
        "Now I propose to analyze the types of discourses.\n",
        "\n",
        "There are seven types:\n",
        "\n",
        "- **Lead** – an introduction that begins with a statistic, quote, description, or other means of getting the reader’s attention and directing them to the thesis\n",
        "- **Position** – an opinion or conclusion on the main issue\n",
        "- **Claim** – a statement that supports the position\n",
        "**Counterclaim** – a claim that refutes another claim or gives a reason opposite to the position\n",
        "- **Rebuttal** – a statement that refutes a counterclaim\n",
        "- **Evidence** – ideas or examples that support assertions, counterclaims or rebuttals\n",
        "- **Concluding Statement** – a final statement that reaffirms the claims\n",
        "\n",
        "Given the different types, it would seem logical that there are fewer `Counterclaims` and `Rebuttal` than other types.\n",
        "\n",
        "**Furthermore, I would like to remind here that multiple discourses, multiple lines, can be part of the same essay (`essay_id`). That is, multiple discourses can be written by the same author, in the same context. And so an `essay` can contain multiple `discourse` having different types as well as different degrees of effectiveness.**\n",
        "\n",
        "Let us now analyze the distribution of this `discourse_type`:\n",
        "\n"
      ]
    },
    {
      "cell_type": "code",
      "execution_count": null,
      "id": "6c6f6f44",
      "metadata": {
        "colab": {
          "base_uri": "https://localhost:8080/",
          "height": 325
        },
        "id": "6c6f6f44",
        "outputId": "f0f63de0-2513-4788-9001-a174c99119c7"
      },
      "outputs": [
        {
          "data": {
            "image/png": "[encoded data removed]",
            "text/plain": [
              "<Figure size 1008x360 with 2 Axes>"
            ]
          },
          "metadata": {
            "needs_background": "light"
          },
          "output_type": "display_data"
        }
      ],
      "source": [
        "import seaborn as sns\n",
        "import matplotlib.pyplot as plt\n",
        "\n",
        "plt.figure(figsize=(14,5))\n",
        "plt.subplot(1,2,1)\n",
        "sns.countplot(data=df,y='discourse_type')\n",
        "plt.subplot(1,2,2)\n",
        "df['discourse_type'].value_counts(normalize=True).plot.bar(rot=25)\n",
        "plt.ylabel('discourse_type')\n",
        "plt.xlabel('% distribution per category')\n",
        "plt.tight_layout()\n",
        "plt.show()"
      ]
    },
    {
      "cell_type": "markdown",
      "id": "aYt8luABZGkD",
      "metadata": {
        "id": "aYt8luABZGkD"
      },
      "source": [
        "We can see here that the distribution is not equally distributed. Our hypothesis is verified for `Counterclaim` and `Rebuttal`. Nevertheless, the distribution is extremely unbalanced in favor of `Claim` and `Evidence`. Let’s keep that in mind for further analysis."
      ]
    },
    {
      "cell_type": "markdown",
      "id": "474eae6f",
      "metadata": {
        "id": "474eae6f"
      },
      "source": [
        "### **NLP Data**"
      ]
    },
    {
      "cell_type": "markdown",
      "id": "d6e48e02",
      "metadata": {
        "id": "d6e48e02"
      },
      "source": [
        "#### **Discourse Length**"
      ]
    },
    {
      "cell_type": "markdown",
      "id": "0w0-9OtAZUeS",
      "metadata": {
        "id": "0w0-9OtAZUeS"
      },
      "source": [
        "Now that we have analyzed the categorical data. We can move on to analyze the NLP data.\n",
        "\n",
        "First, let’s analyze the length of our sentences.\n",
        "\n",
        "To do this, we create a new column `discourse_length` containing the size of each discourse:"
      ]
    },
    {
      "cell_type": "code",
      "execution_count": null,
      "id": "0cd049e7",
      "metadata": {
        "id": "0cd049e7"
      },
      "outputs": [],
      "source": [
        "def length_disc(discourse_text):\n",
        "    return len(discourse_text.split())\n",
        "\n",
        "df['discourse_length'] = df['discourse_text'].apply(length_disc)"
      ]
    },
    {
      "cell_type": "markdown",
      "id": "VpoY5cGbZdD5",
      "metadata": {
        "id": "VpoY5cGbZdD5"
      },
      "source": [
        "Let’s display the result:"
      ]
    },
    {
      "cell_type": "code",
      "execution_count": null,
      "id": "3391ad16",
      "metadata": {
        "colab": {
          "base_uri": "https://localhost:8080/",
          "height": 418
        },
        "id": "3391ad16",
        "outputId": "aa40c4b4-f01e-459d-c503-b9e32e7895ff"
      },
      "outputs": [
        {
          "data": {
            "text/html": [
              "<div>\n",
              "<style scoped>\n",
              "    .dataframe tbody tr th:only-of-type {\n",
              "        vertical-align: middle;\n",
              "    }\n",
              "\n",
              "    .dataframe tbody tr th {\n",
              "        vertical-align: top;\n",
              "    }\n",
              "\n",
              "    .dataframe thead th {\n",
              "        text-align: right;\n",
              "    }\n",
              "</style>\n",
              "<table border=\"1\" class=\"dataframe\">\n",
              "  <thead>\n",
              "    <tr style=\"text-align: right;\">\n",
              "      <th></th>\n",
              "      <th>discourse_id</th>\n",
              "      <th>essay_id</th>\n",
              "      <th>discourse_text</th>\n",
              "      <th>discourse_type</th>\n",
              "      <th>discourse_effectiveness</th>\n",
              "      <th>discourse_length</th>\n",
              "    </tr>\n",
              "  </thead>\n",
              "  <tbody>\n",
              "    <tr>\n",
              "      <th>0</th>\n",
              "      <td>0013cc385424</td>\n",
              "      <td>007ACE74B050</td>\n",
              "      <td>Hi, i'm Isaac, i'm going to be writing about h...</td>\n",
              "      <td>Lead</td>\n",
              "      <td>Adequate</td>\n",
              "      <td>67</td>\n",
              "    </tr>\n",
              "    <tr>\n",
              "      <th>1</th>\n",
              "      <td>9704a709b505</td>\n",
              "      <td>007ACE74B050</td>\n",
              "      <td>On my perspective, I think that the face is a ...</td>\n",
              "      <td>Position</td>\n",
              "      <td>Adequate</td>\n",
              "      <td>41</td>\n",
              "    </tr>\n",
              "    <tr>\n",
              "      <th>2</th>\n",
              "      <td>c22adee811b6</td>\n",
              "      <td>007ACE74B050</td>\n",
              "      <td>I think that the face is a natural landform be...</td>\n",
              "      <td>Claim</td>\n",
              "      <td>Adequate</td>\n",
              "      <td>21</td>\n",
              "    </tr>\n",
              "    <tr>\n",
              "      <th>3</th>\n",
              "      <td>a10d361e54e4</td>\n",
              "      <td>007ACE74B050</td>\n",
              "      <td>If life was on Mars, we would know by now. The...</td>\n",
              "      <td>Evidence</td>\n",
              "      <td>Adequate</td>\n",
              "      <td>72</td>\n",
              "    </tr>\n",
              "    <tr>\n",
              "      <th>4</th>\n",
              "      <td>db3e453ec4e2</td>\n",
              "      <td>007ACE74B050</td>\n",
              "      <td>People thought that the face was formed by ali...</td>\n",
              "      <td>Counterclaim</td>\n",
              "      <td>Adequate</td>\n",
              "      <td>18</td>\n",
              "    </tr>\n",
              "  </tbody>\n",
              "</table>\n",
              "</div>"
            ],
            "text/plain": [
              "   discourse_id      essay_id  \\\n",
              "0  0013cc385424  007ACE74B050   \n",
              "1  9704a709b505  007ACE74B050   \n",
              "2  c22adee811b6  007ACE74B050   \n",
              "3  a10d361e54e4  007ACE74B050   \n",
              "4  db3e453ec4e2  007ACE74B050   \n",
              "\n",
              "                                      discourse_text discourse_type  \\\n",
              "0  Hi, i'm Isaac, i'm going to be writing about h...           Lead   \n",
              "1  On my perspective, I think that the face is a ...       Position   \n",
              "2  I think that the face is a natural landform be...          Claim   \n",
              "3  If life was on Mars, we would know by now. The...       Evidence   \n",
              "4  People thought that the face was formed by ali...   Counterclaim   \n",
              "\n",
              "  discourse_effectiveness  discourse_length  \n",
              "0                Adequate                67  \n",
              "1                Adequate                41  \n",
              "2                Adequate                21  \n",
              "3                Adequate                72  \n",
              "4                Adequate                18  "
            ]
          },
          "execution_count": 7,
          "metadata": {},
          "output_type": "execute_result"
        }
      ],
      "source": [
        "df.head()"
      ]
    },
    {
      "cell_type": "markdown",
      "id": "HOTU4sGqZe-1",
      "metadata": {
        "id": "HOTU4sGqZe-1"
      },
      "source": [
        "Now we can examine the `discourse_length` column like any other numeric data:"
      ]
    },
    {
      "cell_type": "code",
      "execution_count": null,
      "id": "5693e46b",
      "metadata": {
        "colab": {
          "base_uri": "https://localhost:8080/",
          "height": 334
        },
        "id": "5693e46b",
        "outputId": "f69b43cf-1968-4a2c-bcf9-bc4a73fa0711"
      },
      "outputs": [
        {
          "name": "stderr",
          "output_type": "stream",
          "text": [
            "/Users/tomkeldenich/opt/anaconda3/lib/python3.9/site-packages/seaborn/_decorators.py:36: FutureWarning: Pass the following variable as a keyword arg: x. From version 0.12, the only valid positional argument will be `data`, and passing other arguments without an explicit keyword will result in an error or misinterpretation.\n",
            "  warnings.warn(\n"
          ]
        },
        {
          "data": {
            "image/png": "[encoded data removed]",
            "text/plain": [
              "<Figure size 864x288 with 2 Axes>"
            ]
          },
          "metadata": {
            "needs_background": "light"
          },
          "output_type": "display_data"
        }
      ],
      "source": [
        "plt.figure(figsize=(12,4))\n",
        "plt.subplot(1,2,1)\n",
        "sns.kdeplot(df['discourse_length'],color='g',shade=True)\n",
        "plt.subplot(1,2,2)\n",
        "sns.boxplot(df['discourse_length'])\n",
        "plt.show()"
      ]
    },
    {
      "cell_type": "markdown",
      "id": "S3xIdvkIZiWd",
      "metadata": {
        "id": "S3xIdvkIZiWd"
      },
      "source": [
        "t looks like there are a lot of values that are extremely far from the mean. These are called outliers and they impact our analysis. We can’t properly breakdown the Tukey box on the right.\n",
        "\n",
        "**Let’s zoom in on the graph:**"
      ]
    },
    {
      "cell_type": "code",
      "execution_count": null,
      "id": "37a91a15",
      "metadata": {
        "colab": {
          "base_uri": "https://localhost:8080/",
          "height": 373
        },
        "id": "37a91a15",
        "outputId": "fdbf7544-3f4c-457f-c72f-23d36741187b"
      },
      "outputs": [
        {
          "name": "stderr",
          "output_type": "stream",
          "text": [
            "/Users/tomkeldenich/opt/anaconda3/lib/python3.9/site-packages/seaborn/_decorators.py:36: FutureWarning: Pass the following variable as a keyword arg: x. From version 0.12, the only valid positional argument will be `data`, and passing other arguments without an explicit keyword will result in an error or misinterpretation.\n",
            "  warnings.warn(\n"
          ]
        },
        {
          "data": {
            "image/png": "[encoded data removed]",
            "text/plain": [
              "<Figure size 1152x360 with 1 Axes>"
            ]
          },
          "metadata": {
            "needs_background": "light"
          },
          "output_type": "display_data"
        }
      ],
      "source": [
        "plt.figure(figsize=(16,5))\n",
        "ax = sns.boxplot(df['discourse_length'])\n",
        "ax.set_xlim(-1, 200)\n",
        "plt.show()"
      ]
    },
    {
      "cell_type": "markdown",
      "id": "5ruPoBB7ZoLY",
      "metadata": {
        "id": "5ruPoBB7ZoLY"
      },
      "source": [
        "That’s better! Most discourses are less than 120 words long, with the average being about 30 words.\n",
        "\n",
        "**Despite this, it seems that there are many discourses above 120 words. Let’s analyze these outliers.**\n",
        "\n",
        "First, by calculating [Skewness and Kurtosis.](https://inside-machinelearning.com/en/skewness-and-kurtosis/) Two measures, [detailed in this article](https://inside-machinelearning.com/en/skewness-and-kurtosis/), that help us to understand outliers and their distribution:"
      ]
    },
    {
      "cell_type": "code",
      "execution_count": null,
      "id": "8614c932",
      "metadata": {
        "colab": {
          "base_uri": "https://localhost:8080/"
        },
        "id": "8614c932",
        "outputId": "4ef784c1-fa18-4757-ca7c-1d318450f246"
      },
      "outputs": [
        {
          "name": "stdout",
          "output_type": "stream",
          "text": [
            "Skew: 2.9285198590138415\n",
            "Kurtosis: 15.61832354148293\n"
          ]
        }
      ],
      "source": [
        "print(\"Skew: {}\".format(df['discourse_length'].skew()))\n",
        "print(\"Kurtosis: {}\".format(df['discourse_length'].kurtosis()))"
      ]
    },
    {
      "cell_type": "markdown",
      "id": "qwwho2lYZyoH",
      "metadata": {
        "id": "qwwho2lYZyoH"
      },
      "source": [
        "The outliers are widely spaced from the average with a very high Kurtosis."
      ]
    },
    {
      "cell_type": "markdown",
      "id": "02cf5aec",
      "metadata": {
        "id": "02cf5aec"
      },
      "source": [
        "##### **Outliers**"
      ]
    },
    {
      "cell_type": "markdown",
      "id": "mo7gq3A7Z21A",
      "metadata": {
        "id": "mo7gq3A7Z21A"
      },
      "source": [
        "In most distributions, it is normal to have extreme values.\n",
        "\n",
        "**But outliers are not very frequent, even anomalous. It can be an error in the dataset.**\n",
        "\n",
        "Therefore, let’s display these outliers to determine if it is an error.\n",
        "\n",
        "To determine outliers, we use the z-score.\n",
        "\n",
        "> Z-score calculates the distance of a point from the mean.\n",
        "\n",
        "**If the z-score is less than -3 or greater than 3, it is considered an outlier.**\n",
        "\n",
        "Let’s see this by displaying all points below -3 and above 3:"
      ]
    },
    {
      "cell_type": "code",
      "execution_count": null,
      "id": "95cb11d3",
      "metadata": {
        "colab": {
          "base_uri": "https://localhost:8080/",
          "height": 891
        },
        "id": "95cb11d3",
        "outputId": "8958540f-061a-42f4-8633-ec4dfd0f790a"
      },
      "outputs": [
        {
          "data": {
            "text/html": [
              "<div>\n",
              "<style scoped>\n",
              "    .dataframe tbody tr th:only-of-type {\n",
              "        vertical-align: middle;\n",
              "    }\n",
              "\n",
              "    .dataframe tbody tr th {\n",
              "        vertical-align: top;\n",
              "    }\n",
              "\n",
              "    .dataframe thead th {\n",
              "        text-align: right;\n",
              "    }\n",
              "</style>\n",
              "<table border=\"1\" class=\"dataframe\">\n",
              "  <thead>\n",
              "    <tr style=\"text-align: right;\">\n",
              "      <th></th>\n",
              "      <th>discourse_id</th>\n",
              "      <th>essay_id</th>\n",
              "      <th>discourse_text</th>\n",
              "      <th>discourse_type</th>\n",
              "      <th>discourse_effectiveness</th>\n",
              "      <th>discourse_length</th>\n",
              "    </tr>\n",
              "  </thead>\n",
              "  <tbody>\n",
              "    <tr>\n",
              "      <th>99</th>\n",
              "      <td>4a7d11406893</td>\n",
              "      <td>01E9D9CD5CBF</td>\n",
              "      <td>The study the ability of humans to read subatl...</td>\n",
              "      <td>Evidence</td>\n",
              "      <td>Ineffective</td>\n",
              "      <td>222</td>\n",
              "    </tr>\n",
              "    <tr>\n",
              "      <th>110</th>\n",
              "      <td>d1c5f0d13151</td>\n",
              "      <td>021663FD2F2E</td>\n",
              "      <td>The Mona lisa demonstration really intended to...</td>\n",
              "      <td>Evidence</td>\n",
              "      <td>Ineffective</td>\n",
              "      <td>209</td>\n",
              "    </tr>\n",
              "    <tr>\n",
              "      <th>208</th>\n",
              "      <td>4b1e4c493bfd</td>\n",
              "      <td>0491C7BFA9B4</td>\n",
              "      <td>Attention !!! to all the residents of this com...</td>\n",
              "      <td>Evidence</td>\n",
              "      <td>Ineffective</td>\n",
              "      <td>353</td>\n",
              "    </tr>\n",
              "    <tr>\n",
              "      <th>219</th>\n",
              "      <td>1b263824b0b2</td>\n",
              "      <td>04B4209D8A34</td>\n",
              "      <td>Even if you have no experience with an of the ...</td>\n",
              "      <td>Evidence</td>\n",
              "      <td>Effective</td>\n",
              "      <td>199</td>\n",
              "    </tr>\n",
              "    <tr>\n",
              "      <th>293</th>\n",
              "      <td>506f1d68d554</td>\n",
              "      <td>071BF63AF332</td>\n",
              "      <td>ubs and sports are very social activities. If ...</td>\n",
              "      <td>Evidence</td>\n",
              "      <td>Effective</td>\n",
              "      <td>249</td>\n",
              "    </tr>\n",
              "    <tr>\n",
              "      <th>...</th>\n",
              "      <td>...</td>\n",
              "      <td>...</td>\n",
              "      <td>...</td>\n",
              "      <td>...</td>\n",
              "      <td>...</td>\n",
              "      <td>...</td>\n",
              "    </tr>\n",
              "    <tr>\n",
              "      <th>36577</th>\n",
              "      <td>5c7052b1ac08</td>\n",
              "      <td>F359E262A14A</td>\n",
              "      <td>That is so important for me and my parents and...</td>\n",
              "      <td>Evidence</td>\n",
              "      <td>Ineffective</td>\n",
              "      <td>234</td>\n",
              "    </tr>\n",
              "    <tr>\n",
              "      <th>36620</th>\n",
              "      <td>e6613c2ffde8</td>\n",
              "      <td>F54BD89B665A</td>\n",
              "      <td>Online courses do not give the opportunity for...</td>\n",
              "      <td>Evidence</td>\n",
              "      <td>Effective</td>\n",
              "      <td>192</td>\n",
              "    </tr>\n",
              "    <tr>\n",
              "      <th>36654</th>\n",
              "      <td>b1f96b34280e</td>\n",
              "      <td>F93D06BC99D8</td>\n",
              "      <td>Generic_Name found out much later that she mad...</td>\n",
              "      <td>Concluding Statement</td>\n",
              "      <td>Effective</td>\n",
              "      <td>257</td>\n",
              "    </tr>\n",
              "    <tr>\n",
              "      <th>36689</th>\n",
              "      <td>479fb02ae14b</td>\n",
              "      <td>FD05FDCEA11B</td>\n",
              "      <td>My footsteps seemed impossibly loud as I walke...</td>\n",
              "      <td>Lead</td>\n",
              "      <td>Effective</td>\n",
              "      <td>542</td>\n",
              "    </tr>\n",
              "    <tr>\n",
              "      <th>36722</th>\n",
              "      <td>dc9995b62bb6</td>\n",
              "      <td>FDF0AEEB14C3</td>\n",
              "      <td>In conclusion, many people will argue that onl...</td>\n",
              "      <td>Concluding Statement</td>\n",
              "      <td>Effective</td>\n",
              "      <td>215</td>\n",
              "    </tr>\n",
              "  </tbody>\n",
              "</table>\n",
              "<p>719 rows × 6 columns</p>\n",
              "</div>"
            ],
            "text/plain": [
              "       discourse_id      essay_id  \\\n",
              "99     4a7d11406893  01E9D9CD5CBF   \n",
              "110    d1c5f0d13151  021663FD2F2E   \n",
              "208    4b1e4c493bfd  0491C7BFA9B4   \n",
              "219    1b263824b0b2  04B4209D8A34   \n",
              "293    506f1d68d554  071BF63AF332   \n",
              "...             ...           ...   \n",
              "36577  5c7052b1ac08  F359E262A14A   \n",
              "36620  e6613c2ffde8  F54BD89B665A   \n",
              "36654  b1f96b34280e  F93D06BC99D8   \n",
              "36689  479fb02ae14b  FD05FDCEA11B   \n",
              "36722  dc9995b62bb6  FDF0AEEB14C3   \n",
              "\n",
              "                                          discourse_text  \\\n",
              "99     The study the ability of humans to read subatl...   \n",
              "110    The Mona lisa demonstration really intended to...   \n",
              "208    Attention !!! to all the residents of this com...   \n",
              "219    Even if you have no experience with an of the ...   \n",
              "293    ubs and sports are very social activities. If ...   \n",
              "...                                                  ...   \n",
              "36577  That is so important for me and my parents and...   \n",
              "36620  Online courses do not give the opportunity for...   \n",
              "36654  Generic_Name found out much later that she mad...   \n",
              "36689  My footsteps seemed impossibly loud as I walke...   \n",
              "36722  In conclusion, many people will argue that onl...   \n",
              "\n",
              "             discourse_type discourse_effectiveness  discourse_length  \n",
              "99                 Evidence             Ineffective               222  \n",
              "110                Evidence             Ineffective               209  \n",
              "208                Evidence             Ineffective               353  \n",
              "219                Evidence               Effective               199  \n",
              "293                Evidence               Effective               249  \n",
              "...                     ...                     ...               ...  \n",
              "36577              Evidence             Ineffective               234  \n",
              "36620              Evidence               Effective               192  \n",
              "36654  Concluding Statement               Effective               257  \n",
              "36689                  Lead               Effective               542  \n",
              "36722  Concluding Statement               Effective               215  \n",
              "\n",
              "[719 rows x 6 columns]"
            ]
          },
          "execution_count": 11,
          "metadata": {},
          "output_type": "execute_result"
        }
      ],
      "source": [
        "from scipy.stats import zscore\n",
        "\n",
        "y_outliers = df[abs(zscore(df['discourse_length'])) >= 3 ]\n",
        "y_outliers"
      ]
    },
    {
      "cell_type": "markdown",
      "id": "eI47LwS3aCRT",
      "metadata": {
        "id": "eI47LwS3aCRT"
      },
      "source": [
        "719 lines are outliers. They do not seem to represent errors. We can consider these lines as discourses that have not been separated in multiple essays (to be checked).\n",
        "\n",
        "Let’s display the distribution of the efficiency of these outliers:"
      ]
    },
    {
      "cell_type": "code",
      "execution_count": null,
      "id": "9a603891",
      "metadata": {
        "colab": {
          "base_uri": "https://localhost:8080/",
          "height": 372
        },
        "id": "9a603891",
        "outputId": "4058b86f-4e4f-4b01-d611-99f5f85ddb52"
      },
      "outputs": [
        {
          "name": "stdout",
          "output_type": "stream",
          "text": [
            "Effective      0.536857\n",
            "Ineffective    0.342142\n",
            "Adequate       0.121001\n",
            "Name: discourse_effectiveness, dtype: float64\n"
          ]
        },
        {
          "data": {
            "text/plain": [
              "<AxesSubplot:>"
            ]
          },
          "execution_count": 12,
          "metadata": {},
          "output_type": "execute_result"
        },
        {
          "data": {
            "image/png": "[encoded data removed]",
            "text/plain": [
              "<Figure size 432x288 with 1 Axes>"
            ]
          },
          "metadata": {
            "needs_background": "light"
          },
          "output_type": "display_data"
        }
      ],
      "source": [
        "stats_long_text = y_outliers['discourse_effectiveness'].value_counts(normalize=True)\n",
        "print(stats_long_text)\n",
        "stats_long_text.plot.bar(rot=25)"
      ]
    },
    {
      "cell_type": "markdown",
      "id": "NV75m92haHEE",
      "metadata": {
        "id": "NV75m92haHEE"
      },
      "source": [
        "Here, a first hint emerges. Most long discourses seem to be `Effective` at about 53%. This is much more than in the whole dataset (25%).\n",
        "\n",
        "We can therefore formulate a first hypothesis: **the longer a discourse is, the more `Effective` it seems.**\n",
        "\n",
        "But we can also see that it can be more frequently `Ineffective` (34%) than a discourse of normal length (17%).\n",
        "\n",
        "Let us display the distribution of types for these outliers:"
      ]
    },
    {
      "cell_type": "code",
      "execution_count": null,
      "id": "08c51aed",
      "metadata": {
        "colab": {
          "base_uri": "https://localhost:8080/",
          "height": 430
        },
        "id": "08c51aed",
        "outputId": "2365a586-867f-4502-ae7d-38b84017a620"
      },
      "outputs": [
        {
          "name": "stdout",
          "output_type": "stream",
          "text": [
            "Evidence                0.933241\n",
            "Concluding Statement    0.034771\n",
            "Lead                    0.029207\n",
            "Counterclaim            0.001391\n",
            "Rebuttal                0.001391\n",
            "Name: discourse_type, dtype: float64\n"
          ]
        },
        {
          "data": {
            "text/plain": [
              "<AxesSubplot:>"
            ]
          },
          "execution_count": 13,
          "metadata": {},
          "output_type": "execute_result"
        },
        {
          "data": {
            "image/png": "[encoded data removed]",
            "text/plain": [
              "<Figure size 432x288 with 1 Axes>"
            ]
          },
          "metadata": {
            "needs_background": "light"
          },
          "output_type": "display_data"
        }
      ],
      "source": [
        "stats_long_text = y_outliers['discourse_type'].value_counts(normalize=True)\n",
        "print(stats_long_text)\n",
        "stats_long_text.plot.bar(rot=25)"
      ]
    },
    {
      "cell_type": "markdown",
      "id": "VEh3oHr2ahzQ",
      "metadata": {
        "id": "VEh3oHr2ahzQ"
      },
      "source": [
        "On this point, the statistic is very clear. Most long discourses are `Evidence`.\n",
        "\n",
        "But are most `Evidence` discourses `Effective`?\n",
        "\n",
        "We will see this in the Multivariate Analysis.\n",
        "\n",
        "For now, let’s continue with the analysis of the words that make up the discourses!"
      ]
    },
    {
      "cell_type": "markdown",
      "id": "1d48761c",
      "metadata": {
        "id": "1d48761c"
      },
      "source": [
        "#### **Preprocessing**"
      ]
    },
    {
      "cell_type": "markdown",
      "id": "a3cc30c1",
      "metadata": {
        "id": "a3cc30c1"
      },
      "source": [
        "In order to analyze the words that compose the discourses, we will first perform a preprocessing by removing:\n",
        "\n",
        "- numbers\n",
        "- stopwords\n",
        "- special characters\n",
        "\n",
        "Here I copy and paste the code from the [Preprocessing NLP – Tutorial to quickly clean up a text](https://inside-machinelearning.com/en/preprocessing-nlp-preprocessing/) and applying a few changes:"
      ]
    },
    {
      "cell_type": "code",
      "execution_count": null,
      "id": "922e37d9",
      "metadata": {
        "colab": {
          "base_uri": "https://localhost:8080/"
        },
        "id": "922e37d9",
        "outputId": "4f0f8d9a-2d44-4f1f-85ff-a4b86276edee"
      },
      "outputs": [
        {
          "name": "stderr",
          "output_type": "stream",
          "text": [
            "[nltk_data] Downloading package stopwords to\n",
            "[nltk_data]     /Users/tomkeldenich/nltk_data...\n",
            "[nltk_data]   Package stopwords is already up-to-date!\n",
            "[nltk_data] Downloading package punkt to\n",
            "[nltk_data]     /Users/tomkeldenich/nltk_data...\n",
            "[nltk_data]   Package punkt is already up-to-date!\n",
            "[nltk_data] Downloading package words to\n",
            "[nltk_data]     /Users/tomkeldenich/nltk_data...\n",
            "[nltk_data]   Package words is already up-to-date!\n",
            "[nltk_data] Downloading package wordnet to\n",
            "[nltk_data]     /Users/tomkeldenich/nltk_data...\n",
            "[nltk_data]   Package wordnet is already up-to-date!\n"
          ]
        }
      ],
      "source": [
        "import nltk\n",
        "import string\n",
        "from nltk.stem import WordNetLemmatizer\n",
        "import re\n",
        "\n",
        "nltk.download('stopwords')\n",
        "nltk.download('punkt')\n",
        "nltk.download('words')\n",
        "nltk.download('wordnet')\n",
        "\n",
        "stopwords = nltk.corpus.stopwords.words('english')\n",
        "words = set(nltk.corpus.words.words())\n",
        "lemmatizer = WordNetLemmatizer()\n",
        "\n",
        "def preprocessSentence(sentence):\n",
        "    sentence_w_punct = \"\".join([i.lower() for i in sentence if i not in string.punctuation])\n",
        "\n",
        "    sentence_w_num = ''.join(i for i in sentence_w_punct if not i.isdigit())\n",
        "\n",
        "    tokenize_sentence = nltk.tokenize.word_tokenize(sentence_w_num)\n",
        "\n",
        "    words_w_stopwords = [i for i in tokenize_sentence if i not in stopwords]\n",
        "\n",
        "    words_lemmatize = (lemmatizer.lemmatize(w) for w in words_w_stopwords)\n",
        "    \n",
        "    words_lemmatize = (re.sub(r\"[^a-zA-Z0-9]\",\"\",w) for w in words_lemmatize)\n",
        "\n",
        "    sentence_clean = ' '.join(w for w in words_lemmatize if w.lower() in words or not w.isalpha())\n",
        "\n",
        "    return sentence_clean.split()"
      ]
    },
    {
      "cell_type": "markdown",
      "id": "zilhBXObaxYJ",
      "metadata": {
        "id": "zilhBXObaxYJ"
      },
      "source": [
        "As an example let’s display a base sentence and a preprocessed one:"
      ]
    },
    {
      "cell_type": "code",
      "execution_count": null,
      "id": "eeab447d",
      "metadata": {
        "colab": {
          "base_uri": "https://localhost:8080/"
        },
        "id": "eeab447d",
        "outputId": "58c6b97a-7445-4166-d960-14be5dcfa35e"
      },
      "outputs": [
        {
          "name": "stdout",
          "output_type": "stream",
          "text": [
            "On my perspective, I think that the face is a natural landform because I dont think that there is any life on Mars. In these next few paragraphs, I'll be talking about how I think that is is a natural landform \n",
            "\n",
            "\n",
            "['perspective', 'think', 'face', 'natural', 'dont', 'think', 'life', 'mar', 'next', 'paragraph', 'ill', 'talking', 'think', 'natural']\n"
          ]
        }
      ],
      "source": [
        "print(df.iloc[1]['discourse_text'])\n",
        "print('\\n')\n",
        "print(preprocessSentence(df.iloc[1]['discourse_text']))"
      ]
    },
    {
      "cell_type": "markdown",
      "id": "Nivz5qSEa0DB",
      "metadata": {
        "id": "Nivz5qSEa0DB"
      },
      "source": [
        "Now let’s apply the preprocessing to the whole DataFrame:"
      ]
    },
    {
      "cell_type": "code",
      "execution_count": null,
      "id": "11bec5e3",
      "metadata": {
        "id": "11bec5e3"
      },
      "outputs": [],
      "source": [
        "df_words = df['discourse_text'].apply(preprocessSentence)"
      ]
    },
    {
      "cell_type": "markdown",
      "id": "1Ub0DX5Ha17O",
      "metadata": {
        "id": "1Ub0DX5Ha17O"
      },
      "source": [
        "We get the result in `df_words`."
      ]
    },
    {
      "cell_type": "markdown",
      "id": "c0Si5dsza63Y",
      "metadata": {
        "id": "c0Si5dsza63Y"
      },
      "source": [
        "#### **Word Analysis**"
      ]
    },
    {
      "cell_type": "markdown",
      "id": "MnjTiGSJa66F",
      "metadata": {
        "id": "MnjTiGSJa66F"
      },
      "source": [
        "We now have a DataFrame containing our preprocessed discourses. Each line represents a list containing the words composing discourses.\n",
        "\n",
        "I would like to perform a one-hot encoding here. Again the process is explained in our article on [NLP Preprocessing.](https://inside-machinelearning.com/en/preprocessing-nlp-preprocessing/)\n",
        "\n",
        "**The idea of one-hot encoding is to have columns representing every words in the dataset, and rows indicating 1 if the word is present in the discourse, 0 otherwise.**\n",
        "\n",
        "If you have enough memory space use this line to make the one-hot encoding:"
      ]
    },
    {
      "cell_type": "code",
      "execution_count": null,
      "id": "2665e4cd",
      "metadata": {
        "id": "2665e4cd"
      },
      "outputs": [],
      "source": [
        "#dfa = pd.get_dummies(df_words.apply(pd.Series).stack()).sum(level=0)"
      ]
    },
    {
      "cell_type": "markdown",
      "id": "AF57su7PbX1V",
      "metadata": {
        "id": "AF57su7PbX1V"
      },
      "source": [
        "**Otherwise use the `concat` option by splitting your dataset in two(or more) and one hot encoding the parts separately.**\n",
        "\n",
        "Finish by concatenating them:"
      ]
    },
    {
      "cell_type": "code",
      "execution_count": null,
      "id": "1172654d",
      "metadata": {
        "colab": {
          "base_uri": "https://localhost:8080/"
        },
        "id": "1172654d",
        "outputId": "92de2958-c20f-4326-8c88-19631f3af2b4"
      },
      "outputs": [
        {
          "name": "stderr",
          "output_type": "stream",
          "text": [
            "/var/folders/bm/5ssydkrd4c1cpc7_7mjf7ym40000gn/T/ipykernel_1783/227132595.py:1: FutureWarning: Using the level keyword in DataFrame and Series aggregations is deprecated and will be removed in a future version. Use groupby instead. df.sum(level=1) should use df.groupby(level=1).sum().\n",
            "  dfa1 = pd.get_dummies(df_words.iloc[:20000].apply(pd.Series).stack()).sum(level=0)\n"
          ]
        }
      ],
      "source": [
        "dfa1 = pd.get_dummies(df_words.iloc[:20000].apply(pd.Series).stack()).sum(level=0)"
      ]
    },
    {
      "cell_type": "code",
      "execution_count": null,
      "id": "u7XO878ZqWjX",
      "metadata": {
        "colab": {
          "base_uri": "https://localhost:8080/",
          "height": 307
        },
        "id": "u7XO878ZqWjX",
        "outputId": "db394074-ff10-45e9-cbc6-97d603167e88"
      },
      "outputs": [
        {
          "name": "stderr",
          "output_type": "stream",
          "text": [
            "/var/folders/bm/5ssydkrd4c1cpc7_7mjf7ym40000gn/T/ipykernel_1783/1417337473.py:1: FutureWarning: Using the level keyword in DataFrame and Series aggregations is deprecated and will be removed in a future version. Use groupby instead. df.sum(level=1) should use df.groupby(level=1).sum().\n",
            "  dfa2 = pd.get_dummies(df_words.iloc[20000:].apply(pd.Series).stack()).sum(level=0)\n"
          ]
        }
      ],
      "source": [
        "dfa2 = pd.get_dummies(df_words.iloc[20000:].apply(pd.Series).stack()).sum(level=0)"
      ]
    },
    {
      "cell_type": "code",
      "execution_count": null,
      "id": "iMm7ZrpCqWuc",
      "metadata": {
        "id": "iMm7ZrpCqWuc"
      },
      "outputs": [],
      "source": [
        "dfb = pd.concat([dfa1,dfa2], axis=0, ignore_index=True)"
      ]
    },
    {
      "cell_type": "code",
      "execution_count": null,
      "id": "93a6ce1a",
      "metadata": {
        "id": "93a6ce1a",
        "outputId": "84b661bf-bf68-4d81-fd97-f22a901ab8f7"
      },
      "outputs": [
        {
          "data": {
            "text/html": [
              "<div>\n",
              "<style scoped>\n",
              "    .dataframe tbody tr th:only-of-type {\n",
              "        vertical-align: middle;\n",
              "    }\n",
              "\n",
              "    .dataframe tbody tr th {\n",
              "        vertical-align: top;\n",
              "    }\n",
              "\n",
              "    .dataframe thead th {\n",
              "        text-align: right;\n",
              "    }\n",
              "</style>\n",
              "<table border=\"1\" class=\"dataframe\">\n",
              "  <thead>\n",
              "    <tr style=\"text-align: right;\">\n",
              "      <th></th>\n",
              "      <th>a</th>\n",
              "      <th>aa</th>\n",
              "      <th>abandon</th>\n",
              "      <th>abandoned</th>\n",
              "      <th>abhor</th>\n",
              "      <th>ability</th>\n",
              "      <th>able</th>\n",
              "      <th>aboard</th>\n",
              "      <th>abolish</th>\n",
              "      <th>abolishment</th>\n",
              "      <th>...</th>\n",
              "      <th>wrestle</th>\n",
              "      <th>wristband</th>\n",
              "      <th>writhen</th>\n",
              "      <th>wrongful</th>\n",
              "      <th>yah</th>\n",
              "      <th>yell</th>\n",
              "      <th>yote</th>\n",
              "      <th>youthfulness</th>\n",
              "      <th>zipping</th>\n",
              "      <th>zoom</th>\n",
              "    </tr>\n",
              "  </thead>\n",
              "  <tbody>\n",
              "    <tr>\n",
              "      <th>0</th>\n",
              "      <td>0.0</td>\n",
              "      <td>0</td>\n",
              "      <td>0</td>\n",
              "      <td>0</td>\n",
              "      <td>0.0</td>\n",
              "      <td>0</td>\n",
              "      <td>0</td>\n",
              "      <td>0</td>\n",
              "      <td>0</td>\n",
              "      <td>0</td>\n",
              "      <td>...</td>\n",
              "      <td>NaN</td>\n",
              "      <td>NaN</td>\n",
              "      <td>NaN</td>\n",
              "      <td>NaN</td>\n",
              "      <td>NaN</td>\n",
              "      <td>NaN</td>\n",
              "      <td>NaN</td>\n",
              "      <td>NaN</td>\n",
              "      <td>NaN</td>\n",
              "      <td>NaN</td>\n",
              "    </tr>\n",
              "    <tr>\n",
              "      <th>1</th>\n",
              "      <td>0.0</td>\n",
              "      <td>0</td>\n",
              "      <td>0</td>\n",
              "      <td>0</td>\n",
              "      <td>0.0</td>\n",
              "      <td>0</td>\n",
              "      <td>0</td>\n",
              "      <td>0</td>\n",
              "      <td>0</td>\n",
              "      <td>0</td>\n",
              "      <td>...</td>\n",
              "      <td>NaN</td>\n",
              "      <td>NaN</td>\n",
              "      <td>NaN</td>\n",
              "      <td>NaN</td>\n",
              "      <td>NaN</td>\n",
              "      <td>NaN</td>\n",
              "      <td>NaN</td>\n",
              "      <td>NaN</td>\n",
              "      <td>NaN</td>\n",
              "      <td>NaN</td>\n",
              "    </tr>\n",
              "    <tr>\n",
              "      <th>2</th>\n",
              "      <td>0.0</td>\n",
              "      <td>0</td>\n",
              "      <td>0</td>\n",
              "      <td>0</td>\n",
              "      <td>0.0</td>\n",
              "      <td>0</td>\n",
              "      <td>0</td>\n",
              "      <td>0</td>\n",
              "      <td>0</td>\n",
              "      <td>0</td>\n",
              "      <td>...</td>\n",
              "      <td>NaN</td>\n",
              "      <td>NaN</td>\n",
              "      <td>NaN</td>\n",
              "      <td>NaN</td>\n",
              "      <td>NaN</td>\n",
              "      <td>NaN</td>\n",
              "      <td>NaN</td>\n",
              "      <td>NaN</td>\n",
              "      <td>NaN</td>\n",
              "      <td>NaN</td>\n",
              "    </tr>\n",
              "    <tr>\n",
              "      <th>3</th>\n",
              "      <td>0.0</td>\n",
              "      <td>0</td>\n",
              "      <td>0</td>\n",
              "      <td>0</td>\n",
              "      <td>0.0</td>\n",
              "      <td>0</td>\n",
              "      <td>0</td>\n",
              "      <td>0</td>\n",
              "      <td>0</td>\n",
              "      <td>0</td>\n",
              "      <td>...</td>\n",
              "      <td>NaN</td>\n",
              "      <td>NaN</td>\n",
              "      <td>NaN</td>\n",
              "      <td>NaN</td>\n",
              "      <td>NaN</td>\n",
              "      <td>NaN</td>\n",
              "      <td>NaN</td>\n",
              "      <td>NaN</td>\n",
              "      <td>NaN</td>\n",
              "      <td>NaN</td>\n",
              "    </tr>\n",
              "    <tr>\n",
              "      <th>4</th>\n",
              "      <td>0.0</td>\n",
              "      <td>0</td>\n",
              "      <td>0</td>\n",
              "      <td>0</td>\n",
              "      <td>0.0</td>\n",
              "      <td>0</td>\n",
              "      <td>0</td>\n",
              "      <td>0</td>\n",
              "      <td>0</td>\n",
              "      <td>0</td>\n",
              "      <td>...</td>\n",
              "      <td>NaN</td>\n",
              "      <td>NaN</td>\n",
              "      <td>NaN</td>\n",
              "      <td>NaN</td>\n",
              "      <td>NaN</td>\n",
              "      <td>NaN</td>\n",
              "      <td>NaN</td>\n",
              "      <td>NaN</td>\n",
              "      <td>NaN</td>\n",
              "      <td>NaN</td>\n",
              "    </tr>\n",
              "  </tbody>\n",
              "</table>\n",
              "<p>5 rows × 9561 columns</p>\n",
              "</div>"
            ],
            "text/plain": [
              "     a  aa  abandon  abandoned  abhor  ability  able  aboard  abolish  \\\n",
              "0  0.0   0        0          0    0.0        0     0       0        0   \n",
              "1  0.0   0        0          0    0.0        0     0       0        0   \n",
              "2  0.0   0        0          0    0.0        0     0       0        0   \n",
              "3  0.0   0        0          0    0.0        0     0       0        0   \n",
              "4  0.0   0        0          0    0.0        0     0       0        0   \n",
              "\n",
              "   abolishment  ...  wrestle  wristband  writhen  wrongful  yah  yell  yote  \\\n",
              "0            0  ...      NaN        NaN      NaN       NaN  NaN   NaN   NaN   \n",
              "1            0  ...      NaN        NaN      NaN       NaN  NaN   NaN   NaN   \n",
              "2            0  ...      NaN        NaN      NaN       NaN  NaN   NaN   NaN   \n",
              "3            0  ...      NaN        NaN      NaN       NaN  NaN   NaN   NaN   \n",
              "4            0  ...      NaN        NaN      NaN       NaN  NaN   NaN   NaN   \n",
              "\n",
              "   youthfulness  zipping  zoom  \n",
              "0           NaN      NaN   NaN  \n",
              "1           NaN      NaN   NaN  \n",
              "2           NaN      NaN   NaN  \n",
              "3           NaN      NaN   NaN  \n",
              "4           NaN      NaN   NaN  \n",
              "\n",
              "[5 rows x 9561 columns]"
            ]
          },
          "execution_count": 21,
          "metadata": {},
          "output_type": "execute_result"
        }
      ],
      "source": [
        "dfb.head()"
      ]
    },
    {
      "cell_type": "markdown",
      "id": "4daf9547",
      "metadata": {
        "id": "4daf9547"
      },
      "source": [
        "If you have used the `concat` option, you need now to replace the NaN with 0:"
      ]
    },
    {
      "cell_type": "code",
      "execution_count": null,
      "id": "c7fc2aef",
      "metadata": {
        "id": "c7fc2aef"
      },
      "outputs": [],
      "source": [
        "dfb = dfb.fillna(0).astype(int)"
      ]
    },
    {
      "cell_type": "markdown",
      "id": "aB0ftygUb2TI",
      "metadata": {
        "id": "aB0ftygUb2TI"
      },
      "source": [
        "We display the result:"
      ]
    },
    {
      "cell_type": "code",
      "execution_count": null,
      "id": "c53af652",
      "metadata": {
        "id": "c53af652",
        "outputId": "bdf81c4d-2d87-4dbb-9071-96171043adcf"
      },
      "outputs": [
        {
          "data": {
            "text/html": [
              "<div>\n",
              "<style scoped>\n",
              "    .dataframe tbody tr th:only-of-type {\n",
              "        vertical-align: middle;\n",
              "    }\n",
              "\n",
              "    .dataframe tbody tr th {\n",
              "        vertical-align: top;\n",
              "    }\n",
              "\n",
              "    .dataframe thead th {\n",
              "        text-align: right;\n",
              "    }\n",
              "</style>\n",
              "<table border=\"1\" class=\"dataframe\">\n",
              "  <thead>\n",
              "    <tr style=\"text-align: right;\">\n",
              "      <th></th>\n",
              "      <th>a</th>\n",
              "      <th>aa</th>\n",
              "      <th>abandon</th>\n",
              "      <th>abandoned</th>\n",
              "      <th>abhor</th>\n",
              "      <th>ability</th>\n",
              "      <th>able</th>\n",
              "      <th>aboard</th>\n",
              "      <th>abolish</th>\n",
              "      <th>abolishment</th>\n",
              "      <th>...</th>\n",
              "      <th>wrestle</th>\n",
              "      <th>wristband</th>\n",
              "      <th>writhen</th>\n",
              "      <th>wrongful</th>\n",
              "      <th>yah</th>\n",
              "      <th>yell</th>\n",
              "      <th>yote</th>\n",
              "      <th>youthfulness</th>\n",
              "      <th>zipping</th>\n",
              "      <th>zoom</th>\n",
              "    </tr>\n",
              "  </thead>\n",
              "  <tbody>\n",
              "    <tr>\n",
              "      <th>0</th>\n",
              "      <td>0</td>\n",
              "      <td>0</td>\n",
              "      <td>0</td>\n",
              "      <td>0</td>\n",
              "      <td>0</td>\n",
              "      <td>0</td>\n",
              "      <td>0</td>\n",
              "      <td>0</td>\n",
              "      <td>0</td>\n",
              "      <td>0</td>\n",
              "      <td>...</td>\n",
              "      <td>0</td>\n",
              "      <td>0</td>\n",
              "      <td>0</td>\n",
              "      <td>0</td>\n",
              "      <td>0</td>\n",
              "      <td>0</td>\n",
              "      <td>0</td>\n",
              "      <td>0</td>\n",
              "      <td>0</td>\n",
              "      <td>0</td>\n",
              "    </tr>\n",
              "    <tr>\n",
              "      <th>1</th>\n",
              "      <td>0</td>\n",
              "      <td>0</td>\n",
              "      <td>0</td>\n",
              "      <td>0</td>\n",
              "      <td>0</td>\n",
              "      <td>0</td>\n",
              "      <td>0</td>\n",
              "      <td>0</td>\n",
              "      <td>0</td>\n",
              "      <td>0</td>\n",
              "      <td>...</td>\n",
              "      <td>0</td>\n",
              "      <td>0</td>\n",
              "      <td>0</td>\n",
              "      <td>0</td>\n",
              "      <td>0</td>\n",
              "      <td>0</td>\n",
              "      <td>0</td>\n",
              "      <td>0</td>\n",
              "      <td>0</td>\n",
              "      <td>0</td>\n",
              "    </tr>\n",
              "    <tr>\n",
              "      <th>2</th>\n",
              "      <td>0</td>\n",
              "      <td>0</td>\n",
              "      <td>0</td>\n",
              "      <td>0</td>\n",
              "      <td>0</td>\n",
              "      <td>0</td>\n",
              "      <td>0</td>\n",
              "      <td>0</td>\n",
              "      <td>0</td>\n",
              "      <td>0</td>\n",
              "      <td>...</td>\n",
              "      <td>0</td>\n",
              "      <td>0</td>\n",
              "      <td>0</td>\n",
              "      <td>0</td>\n",
              "      <td>0</td>\n",
              "      <td>0</td>\n",
              "      <td>0</td>\n",
              "      <td>0</td>\n",
              "      <td>0</td>\n",
              "      <td>0</td>\n",
              "    </tr>\n",
              "    <tr>\n",
              "      <th>3</th>\n",
              "      <td>0</td>\n",
              "      <td>0</td>\n",
              "      <td>0</td>\n",
              "      <td>0</td>\n",
              "      <td>0</td>\n",
              "      <td>0</td>\n",
              "      <td>0</td>\n",
              "      <td>0</td>\n",
              "      <td>0</td>\n",
              "      <td>0</td>\n",
              "      <td>...</td>\n",
              "      <td>0</td>\n",
              "      <td>0</td>\n",
              "      <td>0</td>\n",
              "      <td>0</td>\n",
              "      <td>0</td>\n",
              "      <td>0</td>\n",
              "      <td>0</td>\n",
              "      <td>0</td>\n",
              "      <td>0</td>\n",
              "      <td>0</td>\n",
              "    </tr>\n",
              "    <tr>\n",
              "      <th>4</th>\n",
              "      <td>0</td>\n",
              "      <td>0</td>\n",
              "      <td>0</td>\n",
              "      <td>0</td>\n",
              "      <td>0</td>\n",
              "      <td>0</td>\n",
              "      <td>0</td>\n",
              "      <td>0</td>\n",
              "      <td>0</td>\n",
              "      <td>0</td>\n",
              "      <td>...</td>\n",
              "      <td>0</td>\n",
              "      <td>0</td>\n",
              "      <td>0</td>\n",
              "      <td>0</td>\n",
              "      <td>0</td>\n",
              "      <td>0</td>\n",
              "      <td>0</td>\n",
              "      <td>0</td>\n",
              "      <td>0</td>\n",
              "      <td>0</td>\n",
              "    </tr>\n",
              "  </tbody>\n",
              "</table>\n",
              "<p>5 rows × 9561 columns</p>\n",
              "</div>"
            ],
            "text/plain": [
              "   a  aa  abandon  abandoned  abhor  ability  able  aboard  abolish  \\\n",
              "0  0   0        0          0      0        0     0       0        0   \n",
              "1  0   0        0          0      0        0     0       0        0   \n",
              "2  0   0        0          0      0        0     0       0        0   \n",
              "3  0   0        0          0      0        0     0       0        0   \n",
              "4  0   0        0          0      0        0     0       0        0   \n",
              "\n",
              "   abolishment  ...  wrestle  wristband  writhen  wrongful  yah  yell  yote  \\\n",
              "0            0  ...        0          0        0         0    0     0     0   \n",
              "1            0  ...        0          0        0         0    0     0     0   \n",
              "2            0  ...        0          0        0         0    0     0     0   \n",
              "3            0  ...        0          0        0         0    0     0     0   \n",
              "4            0  ...        0          0        0         0    0     0     0   \n",
              "\n",
              "   youthfulness  zipping  zoom  \n",
              "0             0        0     0  \n",
              "1             0        0     0  \n",
              "2             0        0     0  \n",
              "3             0        0     0  \n",
              "4             0        0     0  \n",
              "\n",
              "[5 rows x 9561 columns]"
            ]
          },
          "execution_count": 23,
          "metadata": {},
          "output_type": "execute_result"
        }
      ],
      "source": [
        "dfb.head()"
      ]
    },
    {
      "cell_type": "markdown",
      "id": "27wOi5Uab3Xi",
      "metadata": {
        "id": "27wOi5Uab3Xi"
      },
      "source": [
        "The dataset is now one hot encoded!\n",
        "\n",
        "This will allow us to count the number of occurrences of each word more easily:"
      ]
    },
    {
      "cell_type": "code",
      "execution_count": null,
      "id": "579a1dc3",
      "metadata": {
        "id": "579a1dc3"
      },
      "outputs": [],
      "source": [
        "words_sum = dfb.sum(axis = 0).T"
      ]
    },
    {
      "cell_type": "code",
      "execution_count": null,
      "id": "040b9432",
      "metadata": {
        "id": "040b9432",
        "outputId": "b4880719-384a-421d-9656-a242da358cb4"
      },
      "outputs": [
        {
          "data": {
            "text/plain": [
              "a            2\n",
              "aa           3\n",
              "abandon      3\n",
              "abandoned    6\n",
              "abhor        1\n",
              "dtype: int64"
            ]
          },
          "execution_count": 25,
          "metadata": {},
          "output_type": "execute_result"
        }
      ],
      "source": [
        "words_sum.head()"
      ]
    },
    {
      "cell_type": "markdown",
      "id": "-8JW4EX3b6Fh",
      "metadata": {
        "id": "-8JW4EX3b6Fh"
      },
      "source": [
        "The `words_sum` DataFrame contains the number of times each word appears.\n",
        "\n",
        "**It is now sorted alphabetically from A to Z but I’d like to analyze the words that appear the most often.**\n",
        "\n",
        "So let’s sort `words_sum` by decreasing order of occurrence:"
      ]
    },
    {
      "cell_type": "code",
      "execution_count": null,
      "id": "1ac9954b",
      "metadata": {
        "id": "1ac9954b"
      },
      "outputs": [],
      "source": [
        "words_sum = words_sum.sort_values(ascending=False)"
      ]
    },
    {
      "cell_type": "markdown",
      "id": "gMJatEoAcEiW",
      "metadata": {
        "id": "gMJatEoAcEiW"
      },
      "source": [
        "Now let’s display the words that appear most often in our dataset:"
      ]
    },
    {
      "cell_type": "code",
      "execution_count": null,
      "id": "666c3745",
      "metadata": {
        "id": "666c3745",
        "outputId": "4b10fcf1-0830-45bc-ad1e-54627535a2f4"
      },
      "outputs": [
        {
          "data": {
            "text/plain": [
              "<AxesSubplot:>"
            ]
          },
          "execution_count": 27,
          "metadata": {},
          "output_type": "execute_result"
        },
        {
          "data": {
            "image/png": "[encoded data removed]",
            "text/plain": [
              "<Figure size 1152x360 with 1 Axes>"
            ]
          },
          "metadata": {
            "needs_background": "light"
          },
          "output_type": "display_data"
        }
      ],
      "source": [
        "words_sum_max = words_sum.head(20)\n",
        "\n",
        "plt.figure(figsize=(16,5))\n",
        "words_sum_max.plot.bar(rot=25)"
      ]
    },
    {
      "cell_type": "markdown",
      "id": "BvdC--RYcKVN",
      "metadata": {
        "id": "BvdC--RYcKVN"
      },
      "source": [
        "These words refer to school and elections. At this point, we can’t say much about these words.\n",
        "\n",
        "It is interesting to display them now in order to compare them later during the Multivariate Analysis.\n",
        "\n",
        "Indeed, the most frequent words in the global dataset may not be the same as in the `Effective` discourse."
      ]
    },
    {
      "cell_type": "markdown",
      "id": "601d65e4",
      "metadata": {
        "id": "601d65e4"
      },
      "source": [
        "## **Multivariate Analysis**"
      ]
    },
    {
      "cell_type": "markdown",
      "id": "Rwsy2Y9BcQ97",
      "metadata": {
        "id": "Rwsy2Y9BcQ97"
      },
      "source": [
        "We now have a much more accurate view of our dataset by analyzing:\n",
        "\n",
        "- Effectiveness (target)\n",
        "- Discourse types\n",
        "- Length of the discourses\n",
        "- Words that make up discourses\n",
        "\n",
        "Let’s move on to the Multivariate Analysis.\n",
        "\n",
        "Multivariate Analysis is the examination of our features by putting them in relation with our target.\n",
        "\n",
        "This will allow us to make hypotheses about the dataset.\n",
        "\n",
        "> Here we are in the theorization phase.\n",
        "\n",
        "**The question associated with Multivariate Analysis is: Is there a link between our features and the target?**"
      ]
    },
    {
      "cell_type": "markdown",
      "id": "839834d0",
      "metadata": {
        "id": "839834d0"
      },
      "source": [
        "### **Categorical Data**"
      ]
    },
    {
      "cell_type": "markdown",
      "id": "SCvGNY5XcaGQ",
      "metadata": {
        "id": "SCvGNY5XcaGQ"
      },
      "source": [
        "First, let’s start with the categorical data.\n",
        "\n",
        "Is there a relationship between discourse types (`discourse_type`) and their effectiveness (`discourse_effectiveness`)?\n",
        "\n",
        "We display the number of occurrences of each of these types as a function of effectiveness:"
      ]
    },
    {
      "cell_type": "code",
      "execution_count": null,
      "id": "f18bc823",
      "metadata": {
        "id": "f18bc823",
        "outputId": "b39b2293-e913-4472-ace0-61e12124e6ff"
      },
      "outputs": [
        {
          "data": {
            "text/plain": [
              "<Figure size 576x576 with 0 Axes>"
            ]
          },
          "metadata": {},
          "output_type": "display_data"
        },
        {
          "data": {
            "image/png": "[encoded data removed]",
            "text/plain": [
              "<Figure size 432x288 with 1 Axes>"
            ]
          },
          "metadata": {
            "needs_background": "light"
          },
          "output_type": "display_data"
        }
      ],
      "source": [
        "import numpy as np\n",
        "\n",
        "plt.figure(figsize=(8,8))\n",
        "cross = pd.crosstab(index=df['discourse_effectiveness'],columns=df['discourse_type'],normalize='index')\n",
        "cross.plot.barh(stacked=True,rot=40,cmap='plasma').legend(bbox_to_anchor=(1.0, 1.0))\n",
        "plt.xlabel('% distribution per category')\n",
        "plt.xticks(np.arange(0,1.1,0.2))\n",
        "plt.title(\"Forestfire damage each {}\".format('discourse_type'))\n",
        "plt.show()"
      ]
    },
    {
      "cell_type": "code",
      "execution_count": null,
      "id": "1a942ccd",
      "metadata": {
        "id": "1a942ccd",
        "outputId": "ed1d933d-d6d2-42c7-95e8-0f3b71f50b50"
      },
      "outputs": [
        {
          "data": {
            "text/html": [
              "<div>\n",
              "<style scoped>\n",
              "    .dataframe tbody tr th:only-of-type {\n",
              "        vertical-align: middle;\n",
              "    }\n",
              "\n",
              "    .dataframe tbody tr th {\n",
              "        vertical-align: top;\n",
              "    }\n",
              "\n",
              "    .dataframe thead th {\n",
              "        text-align: right;\n",
              "    }\n",
              "</style>\n",
              "<table border=\"1\" class=\"dataframe\">\n",
              "  <thead>\n",
              "    <tr style=\"text-align: right;\">\n",
              "      <th>discourse_type</th>\n",
              "      <th>Claim</th>\n",
              "      <th>Concluding Statement</th>\n",
              "      <th>Counterclaim</th>\n",
              "      <th>Evidence</th>\n",
              "      <th>Lead</th>\n",
              "      <th>Position</th>\n",
              "      <th>Rebuttal</th>\n",
              "    </tr>\n",
              "    <tr>\n",
              "      <th>discourse_effectiveness</th>\n",
              "      <th></th>\n",
              "      <th></th>\n",
              "      <th></th>\n",
              "      <th></th>\n",
              "      <th></th>\n",
              "      <th></th>\n",
              "      <th></th>\n",
              "    </tr>\n",
              "  </thead>\n",
              "  <tbody>\n",
              "    <tr>\n",
              "      <th>Adequate</th>\n",
              "      <td>0.338323</td>\n",
              "      <td>0.092721</td>\n",
              "      <td>0.054822</td>\n",
              "      <td>0.289079</td>\n",
              "      <td>0.059303</td>\n",
              "      <td>0.132717</td>\n",
              "      <td>0.033036</td>\n",
              "    </tr>\n",
              "    <tr>\n",
              "      <th>Effective</th>\n",
              "      <td>0.365108</td>\n",
              "      <td>0.088462</td>\n",
              "      <td>0.044821</td>\n",
              "      <td>0.309350</td>\n",
              "      <td>0.073236</td>\n",
              "      <td>0.082565</td>\n",
              "      <td>0.036457</td>\n",
              "    </tr>\n",
              "    <tr>\n",
              "      <th>Ineffective</th>\n",
              "      <td>0.228258</td>\n",
              "      <td>0.089910</td>\n",
              "      <td>0.031724</td>\n",
              "      <td>0.488394</td>\n",
              "      <td>0.056329</td>\n",
              "      <td>0.072733</td>\n",
              "      <td>0.032652</td>\n",
              "    </tr>\n",
              "  </tbody>\n",
              "</table>\n",
              "</div>"
            ],
            "text/plain": [
              "discourse_type              Claim  Concluding Statement  Counterclaim  \\\n",
              "discourse_effectiveness                                                 \n",
              "Adequate                 0.338323              0.092721      0.054822   \n",
              "Effective                0.365108              0.088462      0.044821   \n",
              "Ineffective              0.228258              0.089910      0.031724   \n",
              "\n",
              "discourse_type           Evidence      Lead  Position  Rebuttal  \n",
              "discourse_effectiveness                                          \n",
              "Adequate                 0.289079  0.059303  0.132717  0.033036  \n",
              "Effective                0.309350  0.073236  0.082565  0.036457  \n",
              "Ineffective              0.488394  0.056329  0.072733  0.032652  "
            ]
          },
          "execution_count": 29,
          "metadata": {},
          "output_type": "execute_result"
        }
      ],
      "source": [
        "cross"
      ]
    },
    {
      "cell_type": "markdown",
      "id": "YaX3wFLlchkw",
      "metadata": {
        "id": "YaX3wFLlchkw"
      },
      "source": [
        "Impressive! At first glance, one can see that the more a discourse is of `Claim` type, the more `Effective` it is.\n",
        "\n",
        "But is this really the case?\n",
        "\n",
        "If we go back to our Univariate Analysis, we can see that `Claim` and `Evidence` are overrepresented types in our dataset. It is therefore logical to see them overrepresented in this analysis.\n",
        "\n",
        "In fact, it would be more logical to evaluate this distribution in a statistical way. Thus all `discourse_type` would have the same weight in the dataset and the analysis would not be biased.\n",
        "\n",
        "For example we have only 2.291 `Lead` against 12.105 `Evidence`. So there will be more `Evidence` in our analysis. This creates an imbalance. For `Effective`, we have 2,885 `Evidence` and 683 `Lead`. Does this mean that an `Evidence` discourse is more effective than a Lead discourse?\n",
        "\n",
        "To clarify this, we need to perform a normalized analysis.\n",
        "\n"
      ]
    },
    {
      "cell_type": "markdown",
      "id": "6e3b0c1c",
      "metadata": {
        "id": "6e3b0c1c"
      },
      "source": [
        "#### **Normalization**"
      ]
    },
    {
      "cell_type": "markdown",
      "id": "f5YfAu1Dc19E",
      "metadata": {
        "id": "f5YfAu1Dc19E"
      },
      "source": [
        "To give the same weight to each `discourse_type` in the dataset, we need to normalize their occurrences.\n",
        "\n",
        "We start by taking the number of occurrences of each `discourse_type` according to the `discourse_effectiveness`:"
      ]
    },
    {
      "cell_type": "code",
      "execution_count": null,
      "id": "06361ef2",
      "metadata": {
        "id": "06361ef2"
      },
      "outputs": [],
      "source": [
        "cross_norm = pd.crosstab(index=df['discourse_effectiveness'],columns=df['discourse_type'])"
      ]
    },
    {
      "cell_type": "code",
      "execution_count": null,
      "id": "24f94f6e",
      "metadata": {
        "id": "24f94f6e",
        "outputId": "6a06106c-44c5-4e85-e19d-52b1cee60e8c"
      },
      "outputs": [
        {
          "data": {
            "text/html": [
              "<div>\n",
              "<style scoped>\n",
              "    .dataframe tbody tr th:only-of-type {\n",
              "        vertical-align: middle;\n",
              "    }\n",
              "\n",
              "    .dataframe tbody tr th {\n",
              "        vertical-align: top;\n",
              "    }\n",
              "\n",
              "    .dataframe thead th {\n",
              "        text-align: right;\n",
              "    }\n",
              "</style>\n",
              "<table border=\"1\" class=\"dataframe\">\n",
              "  <thead>\n",
              "    <tr style=\"text-align: right;\">\n",
              "      <th>discourse_type</th>\n",
              "      <th>Claim</th>\n",
              "      <th>Concluding Statement</th>\n",
              "      <th>Counterclaim</th>\n",
              "      <th>Evidence</th>\n",
              "      <th>Lead</th>\n",
              "      <th>Position</th>\n",
              "      <th>Rebuttal</th>\n",
              "    </tr>\n",
              "    <tr>\n",
              "      <th>discourse_effectiveness</th>\n",
              "      <th></th>\n",
              "      <th></th>\n",
              "      <th></th>\n",
              "      <th></th>\n",
              "      <th></th>\n",
              "      <th></th>\n",
              "      <th></th>\n",
              "    </tr>\n",
              "  </thead>\n",
              "  <tbody>\n",
              "    <tr>\n",
              "      <th>Adequate</th>\n",
              "      <td>7097</td>\n",
              "      <td>1945</td>\n",
              "      <td>1150</td>\n",
              "      <td>6064</td>\n",
              "      <td>1244</td>\n",
              "      <td>2784</td>\n",
              "      <td>693</td>\n",
              "    </tr>\n",
              "    <tr>\n",
              "      <th>Effective</th>\n",
              "      <td>3405</td>\n",
              "      <td>825</td>\n",
              "      <td>418</td>\n",
              "      <td>2885</td>\n",
              "      <td>683</td>\n",
              "      <td>770</td>\n",
              "      <td>340</td>\n",
              "    </tr>\n",
              "    <tr>\n",
              "      <th>Ineffective</th>\n",
              "      <td>1475</td>\n",
              "      <td>581</td>\n",
              "      <td>205</td>\n",
              "      <td>3156</td>\n",
              "      <td>364</td>\n",
              "      <td>470</td>\n",
              "      <td>211</td>\n",
              "    </tr>\n",
              "  </tbody>\n",
              "</table>\n",
              "</div>"
            ],
            "text/plain": [
              "discourse_type           Claim  Concluding Statement  Counterclaim  Evidence  \\\n",
              "discourse_effectiveness                                                        \n",
              "Adequate                  7097                  1945          1150      6064   \n",
              "Effective                 3405                   825           418      2885   \n",
              "Ineffective               1475                   581           205      3156   \n",
              "\n",
              "discourse_type           Lead  Position  Rebuttal  \n",
              "discourse_effectiveness                            \n",
              "Adequate                 1244      2784       693  \n",
              "Effective                 683       770       340  \n",
              "Ineffective               364       470       211  "
            ]
          },
          "execution_count": 31,
          "metadata": {},
          "output_type": "execute_result"
        }
      ],
      "source": [
        "cross_norm"
      ]
    },
    {
      "cell_type": "markdown",
      "id": "NRlpCBmxdAey",
      "metadata": {
        "id": "NRlpCBmxdAey"
      },
      "source": [
        "Then we count the total number of occurrences of each `discourse_type`:"
      ]
    },
    {
      "cell_type": "code",
      "execution_count": null,
      "id": "a399dc97",
      "metadata": {
        "id": "a399dc97"
      },
      "outputs": [],
      "source": [
        "count_type = df['discourse_type'].value_counts()"
      ]
    },
    {
      "cell_type": "markdown",
      "id": "0K2r8UbWdGea",
      "metadata": {
        "id": "0K2r8UbWdGea"
      },
      "source": [
        "And finally we can normalize each of the occurrences according to the efficiency. We divide by the total number of occurrences of the type and multiple by the same number (1000):"
      ]
    },
    {
      "cell_type": "code",
      "execution_count": null,
      "id": "aa95e5da",
      "metadata": {
        "id": "aa95e5da"
      },
      "outputs": [],
      "source": [
        "cross_norm['Claim'] = (cross_norm['Claim']/count_type['Claim'])*1000\n",
        "cross_norm['Concluding Statement'] = (cross_norm['Concluding Statement']/count_type['Concluding Statement'])*1000\n",
        "cross_norm['Counterclaim'] = (cross_norm['Counterclaim']/count_type['Counterclaim'])*1000\n",
        "cross_norm['Evidence'] = (cross_norm['Evidence']/count_type['Evidence'])*1000\n",
        "cross_norm['Lead'] = (cross_norm['Lead']/count_type['Lead'])*1000\n",
        "cross_norm['Position'] = (cross_norm['Position']/count_type['Position'])*1000\n",
        "cross_norm['Rebuttal'] = (cross_norm['Rebuttal']/count_type['Rebuttal'])*1000"
      ]
    },
    {
      "cell_type": "code",
      "execution_count": null,
      "id": "a802df45",
      "metadata": {
        "id": "a802df45",
        "outputId": "69679b69-3ed9-4d73-90ae-793b3119808c"
      },
      "outputs": [
        {
          "data": {
            "text/html": [
              "<div>\n",
              "<style scoped>\n",
              "    .dataframe tbody tr th:only-of-type {\n",
              "        vertical-align: middle;\n",
              "    }\n",
              "\n",
              "    .dataframe tbody tr th {\n",
              "        vertical-align: top;\n",
              "    }\n",
              "\n",
              "    .dataframe thead th {\n",
              "        text-align: right;\n",
              "    }\n",
              "</style>\n",
              "<table border=\"1\" class=\"dataframe\">\n",
              "  <thead>\n",
              "    <tr style=\"text-align: right;\">\n",
              "      <th>discourse_type</th>\n",
              "      <th>Claim</th>\n",
              "      <th>Concluding Statement</th>\n",
              "      <th>Counterclaim</th>\n",
              "      <th>Evidence</th>\n",
              "      <th>Lead</th>\n",
              "      <th>Position</th>\n",
              "      <th>Rebuttal</th>\n",
              "    </tr>\n",
              "    <tr>\n",
              "      <th>discourse_effectiveness</th>\n",
              "      <th></th>\n",
              "      <th></th>\n",
              "      <th></th>\n",
              "      <th></th>\n",
              "      <th></th>\n",
              "      <th></th>\n",
              "      <th></th>\n",
              "    </tr>\n",
              "  </thead>\n",
              "  <tbody>\n",
              "    <tr>\n",
              "      <th>Adequate</th>\n",
              "      <td>592.552392</td>\n",
              "      <td>580.423754</td>\n",
              "      <td>648.618161</td>\n",
              "      <td>500.950021</td>\n",
              "      <td>542.994326</td>\n",
              "      <td>691.848907</td>\n",
              "      <td>557.073955</td>\n",
              "    </tr>\n",
              "    <tr>\n",
              "      <th>Effective</th>\n",
              "      <td>284.294899</td>\n",
              "      <td>246.195166</td>\n",
              "      <td>235.758601</td>\n",
              "      <td>238.331268</td>\n",
              "      <td>298.123090</td>\n",
              "      <td>191.351889</td>\n",
              "      <td>273.311897</td>\n",
              "    </tr>\n",
              "    <tr>\n",
              "      <th>Ineffective</th>\n",
              "      <td>123.152709</td>\n",
              "      <td>173.381080</td>\n",
              "      <td>115.623237</td>\n",
              "      <td>260.718711</td>\n",
              "      <td>158.882584</td>\n",
              "      <td>116.799205</td>\n",
              "      <td>169.614148</td>\n",
              "    </tr>\n",
              "  </tbody>\n",
              "</table>\n",
              "</div>"
            ],
            "text/plain": [
              "discourse_type                Claim  Concluding Statement  Counterclaim  \\\n",
              "discourse_effectiveness                                                   \n",
              "Adequate                 592.552392            580.423754    648.618161   \n",
              "Effective                284.294899            246.195166    235.758601   \n",
              "Ineffective              123.152709            173.381080    115.623237   \n",
              "\n",
              "discourse_type             Evidence        Lead    Position    Rebuttal  \n",
              "discourse_effectiveness                                                  \n",
              "Adequate                 500.950021  542.994326  691.848907  557.073955  \n",
              "Effective                238.331268  298.123090  191.351889  273.311897  \n",
              "Ineffective              260.718711  158.882584  116.799205  169.614148  "
            ]
          },
          "execution_count": 34,
          "metadata": {},
          "output_type": "execute_result"
        }
      ],
      "source": [
        "cross_norm"
      ]
    },
    {
      "cell_type": "markdown",
      "id": "jCremkugdJLi",
      "metadata": {
        "id": "jCremkugdJLi"
      },
      "source": [
        "We now have normalized occurrences. All we need to do now is to create statistics.\n",
        "\n",
        "For each efficiency, we sum the total number of normalized occurrences:"
      ]
    },
    {
      "cell_type": "code",
      "execution_count": null,
      "id": "a80284dd",
      "metadata": {
        "id": "a80284dd",
        "outputId": "54438bfe-6fbf-4529-a47b-e9d3e30ee205"
      },
      "outputs": [
        {
          "name": "stdout",
          "output_type": "stream",
          "text": [
            "discourse_effectiveness\n",
            "Adequate       4114.461515\n",
            "Effective      1767.366810\n",
            "Ineffective    1118.171675\n",
            "dtype: float64\n"
          ]
        }
      ],
      "source": [
        "cross_normSum = cross_norm.sum(axis=1)\n",
        "print(cross_normSum)"
      ]
    },
    {
      "cell_type": "markdown",
      "id": "ZH10LsuWdNPd",
      "metadata": {
        "id": "ZH10LsuWdNPd"
      },
      "source": [
        "Then we use this sum to create our statistics:"
      ]
    },
    {
      "cell_type": "code",
      "execution_count": null,
      "id": "18dba88f",
      "metadata": {
        "id": "18dba88f"
      },
      "outputs": [],
      "source": [
        "cross_norm.loc['Adequate'] = cross_norm.loc['Adequate']/cross_normSum['Adequate']\n",
        "cross_norm.loc['Effective'] = cross_norm.loc['Effective']/cross_normSum['Effective']\n",
        "cross_norm.loc['Ineffective'] = cross_norm.loc['Ineffective']/cross_normSum['Ineffective']"
      ]
    },
    {
      "cell_type": "code",
      "execution_count": null,
      "id": "358d88eb",
      "metadata": {
        "id": "358d88eb",
        "outputId": "29301d69-9640-4477-ba9b-fd3afe9e46fa"
      },
      "outputs": [
        {
          "data": {
            "text/html": [
              "<div>\n",
              "<style scoped>\n",
              "    .dataframe tbody tr th:only-of-type {\n",
              "        vertical-align: middle;\n",
              "    }\n",
              "\n",
              "    .dataframe tbody tr th {\n",
              "        vertical-align: top;\n",
              "    }\n",
              "\n",
              "    .dataframe thead th {\n",
              "        text-align: right;\n",
              "    }\n",
              "</style>\n",
              "<table border=\"1\" class=\"dataframe\">\n",
              "  <thead>\n",
              "    <tr style=\"text-align: right;\">\n",
              "      <th>discourse_type</th>\n",
              "      <th>Claim</th>\n",
              "      <th>Concluding Statement</th>\n",
              "      <th>Counterclaim</th>\n",
              "      <th>Evidence</th>\n",
              "      <th>Lead</th>\n",
              "      <th>Position</th>\n",
              "      <th>Rebuttal</th>\n",
              "    </tr>\n",
              "    <tr>\n",
              "      <th>discourse_effectiveness</th>\n",
              "      <th></th>\n",
              "      <th></th>\n",
              "      <th></th>\n",
              "      <th></th>\n",
              "      <th></th>\n",
              "      <th></th>\n",
              "      <th></th>\n",
              "    </tr>\n",
              "  </thead>\n",
              "  <tbody>\n",
              "    <tr>\n",
              "      <th>Adequate</th>\n",
              "      <td>0.144017</td>\n",
              "      <td>0.141069</td>\n",
              "      <td>0.157644</td>\n",
              "      <td>0.121753</td>\n",
              "      <td>0.131972</td>\n",
              "      <td>0.168151</td>\n",
              "      <td>0.135394</td>\n",
              "    </tr>\n",
              "    <tr>\n",
              "      <th>Effective</th>\n",
              "      <td>0.160858</td>\n",
              "      <td>0.139301</td>\n",
              "      <td>0.133395</td>\n",
              "      <td>0.134851</td>\n",
              "      <td>0.168682</td>\n",
              "      <td>0.108269</td>\n",
              "      <td>0.154644</td>\n",
              "    </tr>\n",
              "    <tr>\n",
              "      <th>Ineffective</th>\n",
              "      <td>0.110138</td>\n",
              "      <td>0.155058</td>\n",
              "      <td>0.103404</td>\n",
              "      <td>0.233165</td>\n",
              "      <td>0.142091</td>\n",
              "      <td>0.104456</td>\n",
              "      <td>0.151689</td>\n",
              "    </tr>\n",
              "  </tbody>\n",
              "</table>\n",
              "</div>"
            ],
            "text/plain": [
              "discourse_type              Claim  Concluding Statement  Counterclaim  \\\n",
              "discourse_effectiveness                                                 \n",
              "Adequate                 0.144017              0.141069      0.157644   \n",
              "Effective                0.160858              0.139301      0.133395   \n",
              "Ineffective              0.110138              0.155058      0.103404   \n",
              "\n",
              "discourse_type           Evidence      Lead  Position  Rebuttal  \n",
              "discourse_effectiveness                                          \n",
              "Adequate                 0.121753  0.131972  0.168151  0.135394  \n",
              "Effective                0.134851  0.168682  0.108269  0.154644  \n",
              "Ineffective              0.233165  0.142091  0.104456  0.151689  "
            ]
          },
          "execution_count": 37,
          "metadata": {},
          "output_type": "execute_result"
        }
      ],
      "source": [
        "cross_norm"
      ]
    },
    {
      "cell_type": "markdown",
      "id": "ggBq2WBXdPWh",
      "metadata": {
        "id": "ggBq2WBXdPWh"
      },
      "source": [
        "When this is done, we display the normalized distribution of each of the types according to the efficiency:"
      ]
    },
    {
      "cell_type": "code",
      "execution_count": null,
      "id": "1833fe20",
      "metadata": {
        "id": "1833fe20",
        "outputId": "ea8382e2-feca-4bc0-ea7a-053b7173954f"
      },
      "outputs": [
        {
          "data": {
            "image/png": "[encoded data removed]",
            "text/plain": [
              "<Figure size 432x288 with 1 Axes>"
            ]
          },
          "metadata": {
            "needs_background": "light"
          },
          "output_type": "display_data"
        }
      ],
      "source": [
        "cross_norm.plot.barh(stacked=True,rot=40,cmap='inferno').legend(bbox_to_anchor=(1.0, 1.0))\n",
        "plt.xlabel('% distribution per category')\n",
        "plt.xticks(np.arange(0,1.1,0.2))\n",
        "plt.title(\"Forestfire damage each {}\".format('discourse_type'))\n",
        "plt.show()"
      ]
    },
    {
      "cell_type": "markdown",
      "id": "46f03b0d",
      "metadata": {
        "id": "46f03b0d"
      },
      "source": [
        "This is much better and more logical!\n",
        "\n",
        "Most types don’t seem to affect the effectiveness of the discourse.\n",
        "\n",
        "**Most?**\n",
        "\n",
        "**It seems that some stand out more than others.**"
      ]
    },
    {
      "cell_type": "markdown",
      "id": "E6oSNh3NdsAl",
      "metadata": {
        "id": "E6oSNh3NdsAl"
      },
      "source": [
        "##### **Max occurence – discourse_type**"
      ]
    },
    {
      "cell_type": "markdown",
      "id": "4cXWXNK8dsHE",
      "metadata": {
        "id": "4cXWXNK8dsHE"
      },
      "source": [
        "Let’s display the max values for each of the discourse_effectiveness:\n",
        "\n",
        "For `Ineffective`:"
      ]
    },
    {
      "cell_type": "code",
      "execution_count": null,
      "id": "70b32b50",
      "metadata": {
        "id": "70b32b50",
        "outputId": "1e6798df-7e42-4e1b-dc8f-a4838c0a8dc8"
      },
      "outputs": [
        {
          "data": {
            "text/plain": [
              "['Evidence']"
            ]
          },
          "execution_count": 39,
          "metadata": {},
          "output_type": "execute_result"
        }
      ],
      "source": [
        "cross_norm.columns[(cross_norm == cross_norm.loc['Ineffective'].max()).any()].tolist()"
      ]
    },
    {
      "cell_type": "markdown",
      "id": "U3muLAaPd3IV",
      "metadata": {
        "id": "U3muLAaPd3IV"
      },
      "source": [
        "For `Adequate`:"
      ]
    },
    {
      "cell_type": "code",
      "execution_count": null,
      "id": "1a9c14f0",
      "metadata": {
        "id": "1a9c14f0",
        "outputId": "1107deb6-5f2a-4d6a-af33-13948f469668"
      },
      "outputs": [
        {
          "data": {
            "text/plain": [
              "['Position']"
            ]
          },
          "execution_count": 40,
          "metadata": {},
          "output_type": "execute_result"
        }
      ],
      "source": [
        "cross_norm.columns[(cross_norm == cross_norm.loc['Adequate'].max()).any()].tolist()"
      ]
    },
    {
      "cell_type": "markdown",
      "id": "F5Go7OhJd3xS",
      "metadata": {
        "id": "F5Go7OhJd3xS"
      },
      "source": [
        "For `Effective`:"
      ]
    },
    {
      "cell_type": "code",
      "execution_count": null,
      "id": "0e350add",
      "metadata": {
        "id": "0e350add",
        "outputId": "57de78b1-51cc-4ce6-a7cc-63bec7e127c8"
      },
      "outputs": [
        {
          "data": {
            "text/plain": [
              "['Lead']"
            ]
          },
          "execution_count": 41,
          "metadata": {},
          "output_type": "execute_result"
        }
      ],
      "source": [
        "cross_norm.columns[(cross_norm == cross_norm.loc['Effective'].max()).any()].tolist()"
      ]
    },
    {
      "cell_type": "markdown",
      "id": "d9aeb3b3",
      "metadata": {
        "id": "d9aeb3b3"
      },
      "source": [
        "In the Univariate Analysis, we saw that most of the long discourses are `Effective` and `Evidence` type.\n",
        "\n",
        "We could have established a link between an `Evidence` type discourse and an `Effective` type discourse. But as we see here, the two are not correlated.\n",
        "\n",
        "Indeed, most `Evidence` type discourses are `Ineffective`, while `Position` types are `Adequate` and `Lead` types are `Effective`.\n",
        "\n",
        "Normalization is mandatory here to understand the data properly. If we had not done so, we would have come to the conclusion that `Claim` type discourse is the most useful for `Adequate` and `Effective` discourse. This is not true. This bias is due to the lack of data in our dataset (the lack of generalization).\n",
        "\n",
        "Most of our data are of type `Evidence`(12,105) and `Claim`(11,977) while only 2,291 rows are counted for type `Lead`.\n",
        "\n",
        "Moreover, another bias may remain. Do we have enough data on `Lead` to draw a conclusion on this label?\n",
        "\n",
        "For now, the contest has only one dataset, so let’s assume we do 😉"
      ]
    },
    {
      "cell_type": "markdown",
      "id": "63612a64",
      "metadata": {
        "id": "63612a64"
      },
      "source": [
        "### **NLP Data**"
      ]
    },
    {
      "cell_type": "markdown",
      "id": "f963435b",
      "metadata": {
        "id": "f963435b"
      },
      "source": [
        "#### **Discourse Length**"
      ]
    },
    {
      "cell_type": "markdown",
      "id": "AV8dh7ICeaG8",
      "metadata": {
        "id": "AV8dh7ICeaG8"
      },
      "source": [
        "Let’s continue on the analysis of discourse length in relation to effectiveness:"
      ]
    },
    {
      "cell_type": "code",
      "execution_count": null,
      "id": "4874b5b2",
      "metadata": {
        "id": "4874b5b2",
        "outputId": "19630b67-2376-4c41-ff16-aa1be5dc08cc"
      },
      "outputs": [
        {
          "data": {
            "image/png": "[encoded data removed]",
            "text/plain": [
              "<Figure size 576x288 with 1 Axes>"
            ]
          },
          "metadata": {
            "needs_background": "light"
          },
          "output_type": "display_data"
        }
      ],
      "source": [
        "plt.figure(figsize=(8,4))\n",
        "sns.boxplot(data=df, x='discourse_length', y='discourse_effectiveness').set_xlim(-1, 220)\n",
        "plt.show()"
      ]
    },
    {
      "cell_type": "markdown",
      "id": "OWeDvAA3edgB",
      "metadata": {
        "id": "OWeDvAA3edgB"
      },
      "source": [
        "The longer a discourse is, the more likely it is to be `Effective`. We can also display the average number of words in each category."
      ]
    },
    {
      "cell_type": "code",
      "execution_count": null,
      "id": "c469981f",
      "metadata": {
        "id": "c469981f",
        "outputId": "d1f0f34e-21fd-4af9-977f-ccf288206383"
      },
      "outputs": [
        {
          "data": {
            "text/plain": [
              "discourse_effectiveness\n",
              "Adequate       24.0\n",
              "Effective      39.0\n",
              "Ineffective    30.0\n",
              "Name: discourse_length, dtype: float64"
            ]
          },
          "execution_count": 43,
          "metadata": {},
          "output_type": "execute_result"
        }
      ],
      "source": [
        "df.groupby(['discourse_effectiveness'])['discourse_length'].median()"
      ]
    },
    {
      "cell_type": "markdown",
      "id": "00c5704e",
      "metadata": {
        "id": "00c5704e"
      },
      "source": [
        "#### **Words Analysis**"
      ]
    },
    {
      "cell_type": "markdown",
      "id": "ZJKiRr6Ceik4",
      "metadata": {
        "id": "ZJKiRr6Ceik4"
      },
      "source": [
        "Finally, the analysis of words.\n",
        "\n",
        "Do the words chosen have an impact on the effectiveness of a discourse? If so, we should find disparities in effectiveness.\n",
        "\n",
        "We start by extracting the `discourse_effectiveness` column from the dataset and add it to `dfb`, the encoded one-hot discourses:"
      ]
    },
    {
      "cell_type": "code",
      "execution_count": null,
      "id": "6e029f9c",
      "metadata": {
        "id": "6e029f9c"
      },
      "outputs": [],
      "source": [
        "dfb['discourse_effectiveness'] = df['discourse_effectiveness']"
      ]
    },
    {
      "cell_type": "code",
      "execution_count": null,
      "id": "d9257614",
      "metadata": {
        "id": "d9257614",
        "outputId": "1bab0aee-29f9-45e6-bd43-d43eeae327c1"
      },
      "outputs": [
        {
          "data": {
            "text/html": [
              "<div>\n",
              "<style scoped>\n",
              "    .dataframe tbody tr th:only-of-type {\n",
              "        vertical-align: middle;\n",
              "    }\n",
              "\n",
              "    .dataframe tbody tr th {\n",
              "        vertical-align: top;\n",
              "    }\n",
              "\n",
              "    .dataframe thead th {\n",
              "        text-align: right;\n",
              "    }\n",
              "</style>\n",
              "<table border=\"1\" class=\"dataframe\">\n",
              "  <thead>\n",
              "    <tr style=\"text-align: right;\">\n",
              "      <th></th>\n",
              "      <th>a</th>\n",
              "      <th>aa</th>\n",
              "      <th>abandon</th>\n",
              "      <th>abandoned</th>\n",
              "      <th>abhor</th>\n",
              "      <th>ability</th>\n",
              "      <th>able</th>\n",
              "      <th>aboard</th>\n",
              "      <th>abolish</th>\n",
              "      <th>abolishment</th>\n",
              "      <th>...</th>\n",
              "      <th>wristband</th>\n",
              "      <th>writhen</th>\n",
              "      <th>wrongful</th>\n",
              "      <th>yah</th>\n",
              "      <th>yell</th>\n",
              "      <th>yote</th>\n",
              "      <th>youthfulness</th>\n",
              "      <th>zipping</th>\n",
              "      <th>zoom</th>\n",
              "      <th>discourse_effectiveness</th>\n",
              "    </tr>\n",
              "  </thead>\n",
              "  <tbody>\n",
              "    <tr>\n",
              "      <th>0</th>\n",
              "      <td>0</td>\n",
              "      <td>0</td>\n",
              "      <td>0</td>\n",
              "      <td>0</td>\n",
              "      <td>0</td>\n",
              "      <td>0</td>\n",
              "      <td>0</td>\n",
              "      <td>0</td>\n",
              "      <td>0</td>\n",
              "      <td>0</td>\n",
              "      <td>...</td>\n",
              "      <td>0</td>\n",
              "      <td>0</td>\n",
              "      <td>0</td>\n",
              "      <td>0</td>\n",
              "      <td>0</td>\n",
              "      <td>0</td>\n",
              "      <td>0</td>\n",
              "      <td>0</td>\n",
              "      <td>0</td>\n",
              "      <td>Adequate</td>\n",
              "    </tr>\n",
              "    <tr>\n",
              "      <th>1</th>\n",
              "      <td>0</td>\n",
              "      <td>0</td>\n",
              "      <td>0</td>\n",
              "      <td>0</td>\n",
              "      <td>0</td>\n",
              "      <td>0</td>\n",
              "      <td>0</td>\n",
              "      <td>0</td>\n",
              "      <td>0</td>\n",
              "      <td>0</td>\n",
              "      <td>...</td>\n",
              "      <td>0</td>\n",
              "      <td>0</td>\n",
              "      <td>0</td>\n",
              "      <td>0</td>\n",
              "      <td>0</td>\n",
              "      <td>0</td>\n",
              "      <td>0</td>\n",
              "      <td>0</td>\n",
              "      <td>0</td>\n",
              "      <td>Adequate</td>\n",
              "    </tr>\n",
              "    <tr>\n",
              "      <th>2</th>\n",
              "      <td>0</td>\n",
              "      <td>0</td>\n",
              "      <td>0</td>\n",
              "      <td>0</td>\n",
              "      <td>0</td>\n",
              "      <td>0</td>\n",
              "      <td>0</td>\n",
              "      <td>0</td>\n",
              "      <td>0</td>\n",
              "      <td>0</td>\n",
              "      <td>...</td>\n",
              "      <td>0</td>\n",
              "      <td>0</td>\n",
              "      <td>0</td>\n",
              "      <td>0</td>\n",
              "      <td>0</td>\n",
              "      <td>0</td>\n",
              "      <td>0</td>\n",
              "      <td>0</td>\n",
              "      <td>0</td>\n",
              "      <td>Adequate</td>\n",
              "    </tr>\n",
              "    <tr>\n",
              "      <th>3</th>\n",
              "      <td>0</td>\n",
              "      <td>0</td>\n",
              "      <td>0</td>\n",
              "      <td>0</td>\n",
              "      <td>0</td>\n",
              "      <td>0</td>\n",
              "      <td>0</td>\n",
              "      <td>0</td>\n",
              "      <td>0</td>\n",
              "      <td>0</td>\n",
              "      <td>...</td>\n",
              "      <td>0</td>\n",
              "      <td>0</td>\n",
              "      <td>0</td>\n",
              "      <td>0</td>\n",
              "      <td>0</td>\n",
              "      <td>0</td>\n",
              "      <td>0</td>\n",
              "      <td>0</td>\n",
              "      <td>0</td>\n",
              "      <td>Adequate</td>\n",
              "    </tr>\n",
              "    <tr>\n",
              "      <th>4</th>\n",
              "      <td>0</td>\n",
              "      <td>0</td>\n",
              "      <td>0</td>\n",
              "      <td>0</td>\n",
              "      <td>0</td>\n",
              "      <td>0</td>\n",
              "      <td>0</td>\n",
              "      <td>0</td>\n",
              "      <td>0</td>\n",
              "      <td>0</td>\n",
              "      <td>...</td>\n",
              "      <td>0</td>\n",
              "      <td>0</td>\n",
              "      <td>0</td>\n",
              "      <td>0</td>\n",
              "      <td>0</td>\n",
              "      <td>0</td>\n",
              "      <td>0</td>\n",
              "      <td>0</td>\n",
              "      <td>0</td>\n",
              "      <td>Adequate</td>\n",
              "    </tr>\n",
              "  </tbody>\n",
              "</table>\n",
              "<p>5 rows × 9562 columns</p>\n",
              "</div>"
            ],
            "text/plain": [
              "   a  aa  abandon  abandoned  abhor  ability  able  aboard  abolish  \\\n",
              "0  0   0        0          0      0        0     0       0        0   \n",
              "1  0   0        0          0      0        0     0       0        0   \n",
              "2  0   0        0          0      0        0     0       0        0   \n",
              "3  0   0        0          0      0        0     0       0        0   \n",
              "4  0   0        0          0      0        0     0       0        0   \n",
              "\n",
              "   abolishment  ...  wristband  writhen  wrongful  yah  yell  yote  \\\n",
              "0            0  ...          0        0         0    0     0     0   \n",
              "1            0  ...          0        0         0    0     0     0   \n",
              "2            0  ...          0        0         0    0     0     0   \n",
              "3            0  ...          0        0         0    0     0     0   \n",
              "4            0  ...          0        0         0    0     0     0   \n",
              "\n",
              "   youthfulness  zipping  zoom  discourse_effectiveness  \n",
              "0             0        0     0                 Adequate  \n",
              "1             0        0     0                 Adequate  \n",
              "2             0        0     0                 Adequate  \n",
              "3             0        0     0                 Adequate  \n",
              "4             0        0     0                 Adequate  \n",
              "\n",
              "[5 rows x 9562 columns]"
            ]
          },
          "execution_count": 45,
          "metadata": {},
          "output_type": "execute_result"
        }
      ],
      "source": [
        "dfb.head()"
      ]
    },
    {
      "cell_type": "markdown",
      "id": "TXgsMZmAepHY",
      "metadata": {
        "id": "TXgsMZmAepHY"
      },
      "source": [
        "We will separate this dataset into 3 DataFrame:\n",
        "\n",
        "- `Effective`\n",
        "- `Adequate`\n",
        "- `Ineffective`\n",
        "\n",
        "And analyze the words contained in each of them:"
      ]
    },
    {
      "cell_type": "code",
      "execution_count": null,
      "id": "767594fd",
      "metadata": {
        "id": "767594fd"
      },
      "outputs": [],
      "source": [
        "dfb_ineffective = dfb.loc[dfb['discourse_effectiveness'] == 'Ineffective'].drop('discourse_effectiveness', axis=1)\n",
        "dfb_adequate = dfb.loc[dfb['discourse_effectiveness'] == 'Adequate'].drop('discourse_effectiveness', axis=1)\n",
        "dfb_effective = dfb.loc[dfb['discourse_effectiveness'] == 'Effective'].drop('discourse_effectiveness', axis=1)"
      ]
    },
    {
      "cell_type": "markdown",
      "id": "TQi2cC09eyaJ",
      "metadata": {
        "id": "TQi2cC09eyaJ"
      },
      "source": [
        "As for the Univariate Analysis, we sum the occurrence of each word:"
      ]
    },
    {
      "cell_type": "code",
      "execution_count": null,
      "id": "5df30224",
      "metadata": {
        "id": "5df30224"
      },
      "outputs": [],
      "source": [
        "words_sum_ineffective = dfb_ineffective.sum(axis = 0).T\n",
        "words_sum_adequate = dfb_adequate.sum(axis = 0).T\n",
        "words_sum_effective  = dfb_effective.sum(axis = 0).T"
      ]
    },
    {
      "cell_type": "markdown",
      "id": "GiPxYpWbe0nC",
      "metadata": {
        "id": "GiPxYpWbe0nC"
      },
      "source": [
        "We sort them by descending order, the greatest number of occurrences first:\n",
        "\n"
      ]
    },
    {
      "cell_type": "code",
      "execution_count": null,
      "id": "95b075f1",
      "metadata": {
        "id": "95b075f1"
      },
      "outputs": [],
      "source": [
        "words_sum_ineffective = words_sum_ineffective.sort_values(ascending=False)\n",
        "words_sum_adequate = words_sum_adequate.sort_values(ascending=False)\n",
        "words_sum_effective = words_sum_effective.sort_values(ascending=False)"
      ]
    },
    {
      "cell_type": "markdown",
      "id": "nCaCNGQse2Cr",
      "metadata": {
        "id": "nCaCNGQse2Cr"
      },
      "source": [
        "And we take the first 20 occurrences:\n",
        "\n"
      ]
    },
    {
      "cell_type": "code",
      "execution_count": null,
      "id": "6105bb1b",
      "metadata": {
        "id": "6105bb1b"
      },
      "outputs": [],
      "source": [
        "words_sum_ineffective_max = words_sum_ineffective.head(500)\n",
        "words_sum_adequate_max = words_sum_adequate.head(500)\n",
        "words_sum_effective_max = words_sum_effective.head(500)"
      ]
    },
    {
      "cell_type": "markdown",
      "id": "F63IxTnge27M",
      "metadata": {
        "id": "F63IxTnge27M"
      },
      "source": [
        "We can display the graph for each of the DataFrame but here I prefer to group them in a single DataFrame and display the head.\n",
        "\n",
        "This will allow us to compare more simply the occurrence of words according to the three types of effectiveness."
      ]
    },
    {
      "cell_type": "code",
      "execution_count": null,
      "id": "6df60336",
      "metadata": {
        "id": "6df60336",
        "outputId": "b44fb657-8da8-4bc5-b8cc-6d1784bb9082"
      },
      "outputs": [
        {
          "data": {
            "text/html": [
              "<div>\n",
              "<style scoped>\n",
              "    .dataframe tbody tr th:only-of-type {\n",
              "        vertical-align: middle;\n",
              "    }\n",
              "\n",
              "    .dataframe tbody tr th {\n",
              "        vertical-align: top;\n",
              "    }\n",
              "\n",
              "    .dataframe thead th {\n",
              "        text-align: right;\n",
              "    }\n",
              "</style>\n",
              "<table border=\"1\" class=\"dataframe\">\n",
              "  <thead>\n",
              "    <tr style=\"text-align: right;\">\n",
              "      <th></th>\n",
              "      <th>Effective</th>\n",
              "      <th>Adequate</th>\n",
              "      <th>Ineffective</th>\n",
              "    </tr>\n",
              "  </thead>\n",
              "  <tbody>\n",
              "    <tr>\n",
              "      <th>0</th>\n",
              "      <td>student</td>\n",
              "      <td>student</td>\n",
              "      <td>student</td>\n",
              "    </tr>\n",
              "    <tr>\n",
              "      <th>1</th>\n",
              "      <td>people</td>\n",
              "      <td>people</td>\n",
              "      <td>people</td>\n",
              "    </tr>\n",
              "    <tr>\n",
              "      <th>2</th>\n",
              "      <td>would</td>\n",
              "      <td>would</td>\n",
              "      <td>would</td>\n",
              "    </tr>\n",
              "    <tr>\n",
              "      <th>3</th>\n",
              "      <td>school</td>\n",
              "      <td>vote</td>\n",
              "      <td>vote</td>\n",
              "    </tr>\n",
              "    <tr>\n",
              "      <th>4</th>\n",
              "      <td>vote</td>\n",
              "      <td>school</td>\n",
              "      <td>electoral</td>\n",
              "    </tr>\n",
              "    <tr>\n",
              "      <th>5</th>\n",
              "      <td>one</td>\n",
              "      <td>electoral</td>\n",
              "      <td>school</td>\n",
              "    </tr>\n",
              "    <tr>\n",
              "      <th>6</th>\n",
              "      <td>get</td>\n",
              "      <td>college</td>\n",
              "      <td>car</td>\n",
              "    </tr>\n",
              "    <tr>\n",
              "      <th>7</th>\n",
              "      <td>time</td>\n",
              "      <td>car</td>\n",
              "      <td>college</td>\n",
              "    </tr>\n",
              "    <tr>\n",
              "      <th>8</th>\n",
              "      <td>help</td>\n",
              "      <td>like</td>\n",
              "      <td>state</td>\n",
              "    </tr>\n",
              "    <tr>\n",
              "      <th>9</th>\n",
              "      <td>make</td>\n",
              "      <td>get</td>\n",
              "      <td>like</td>\n",
              "    </tr>\n",
              "    <tr>\n",
              "      <th>10</th>\n",
              "      <td>like</td>\n",
              "      <td>state</td>\n",
              "      <td>get</td>\n",
              "    </tr>\n",
              "    <tr>\n",
              "      <th>11</th>\n",
              "      <td>project</td>\n",
              "      <td>could</td>\n",
              "      <td>one</td>\n",
              "    </tr>\n",
              "    <tr>\n",
              "      <th>12</th>\n",
              "      <td>electoral</td>\n",
              "      <td>one</td>\n",
              "      <td>time</td>\n",
              "    </tr>\n",
              "    <tr>\n",
              "      <th>13</th>\n",
              "      <td>could</td>\n",
              "      <td>time</td>\n",
              "      <td>could</td>\n",
              "    </tr>\n",
              "    <tr>\n",
              "      <th>14</th>\n",
              "      <td>car</td>\n",
              "      <td>think</td>\n",
              "      <td>think</td>\n",
              "    </tr>\n",
              "    <tr>\n",
              "      <th>15</th>\n",
              "      <td>teacher</td>\n",
              "      <td>make</td>\n",
              "      <td>make</td>\n",
              "    </tr>\n",
              "    <tr>\n",
              "      <th>16</th>\n",
              "      <td>think</td>\n",
              "      <td>help</td>\n",
              "      <td>help</td>\n",
              "    </tr>\n",
              "    <tr>\n",
              "      <th>17</th>\n",
              "      <td>college</td>\n",
              "      <td>president</td>\n",
              "      <td>president</td>\n",
              "    </tr>\n",
              "    <tr>\n",
              "      <th>18</th>\n",
              "      <td>also</td>\n",
              "      <td>also</td>\n",
              "      <td>also</td>\n",
              "    </tr>\n",
              "    <tr>\n",
              "      <th>19</th>\n",
              "      <td>class</td>\n",
              "      <td>way</td>\n",
              "      <td>thing</td>\n",
              "    </tr>\n",
              "    <tr>\n",
              "      <th>20</th>\n",
              "      <td>state</td>\n",
              "      <td>thing</td>\n",
              "      <td>many</td>\n",
              "    </tr>\n",
              "    <tr>\n",
              "      <th>21</th>\n",
              "      <td>want</td>\n",
              "      <td>many</td>\n",
              "      <td>way</td>\n",
              "    </tr>\n",
              "    <tr>\n",
              "      <th>22</th>\n",
              "      <td>work</td>\n",
              "      <td>dont</td>\n",
              "      <td>dont</td>\n",
              "    </tr>\n",
              "    <tr>\n",
              "      <th>23</th>\n",
              "      <td>way</td>\n",
              "      <td>want</td>\n",
              "      <td>even</td>\n",
              "    </tr>\n",
              "    <tr>\n",
              "      <th>24</th>\n",
              "      <td>many</td>\n",
              "      <td>even</td>\n",
              "      <td>want</td>\n",
              "    </tr>\n",
              "    <tr>\n",
              "      <th>25</th>\n",
              "      <td>thing</td>\n",
              "      <td>project</td>\n",
              "      <td>know</td>\n",
              "    </tr>\n",
              "    <tr>\n",
              "      <th>26</th>\n",
              "      <td>know</td>\n",
              "      <td>class</td>\n",
              "      <td>project</td>\n",
              "    </tr>\n",
              "    <tr>\n",
              "      <th>27</th>\n",
              "      <td>president</td>\n",
              "      <td>know</td>\n",
              "      <td>face</td>\n",
              "    </tr>\n",
              "    <tr>\n",
              "      <th>28</th>\n",
              "      <td>dont</td>\n",
              "      <td>need</td>\n",
              "      <td>teacher</td>\n",
              "    </tr>\n",
              "    <tr>\n",
              "      <th>29</th>\n",
              "      <td>need</td>\n",
              "      <td>work</td>\n",
              "      <td>need</td>\n",
              "    </tr>\n",
              "  </tbody>\n",
              "</table>\n",
              "</div>"
            ],
            "text/plain": [
              "    Effective   Adequate Ineffective\n",
              "0     student    student     student\n",
              "1      people     people      people\n",
              "2       would      would       would\n",
              "3      school       vote        vote\n",
              "4        vote     school   electoral\n",
              "5         one  electoral      school\n",
              "6         get    college         car\n",
              "7        time        car     college\n",
              "8        help       like       state\n",
              "9        make        get        like\n",
              "10       like      state         get\n",
              "11    project      could         one\n",
              "12  electoral        one        time\n",
              "13      could       time       could\n",
              "14        car      think       think\n",
              "15    teacher       make        make\n",
              "16      think       help        help\n",
              "17    college  president   president\n",
              "18       also       also        also\n",
              "19      class        way       thing\n",
              "20      state      thing        many\n",
              "21       want       many         way\n",
              "22       work       dont        dont\n",
              "23        way       want        even\n",
              "24       many       even        want\n",
              "25      thing    project        know\n",
              "26       know      class     project\n",
              "27  president       know        face\n",
              "28       dont       need     teacher\n",
              "29       need       work        need"
            ]
          },
          "execution_count": 50,
          "metadata": {},
          "output_type": "execute_result"
        }
      ],
      "source": [
        "pd.DataFrame(list(zip(list(words_sum_effective_max.index),\n",
        "                      list(words_sum_adequate_max.index),\n",
        "                      list(words_sum_ineffective_max.index))),\n",
        "             columns =['Effective', 'Adequate', 'Ineffective']).head(30)"
      ]
    },
    {
      "cell_type": "markdown",
      "id": "5vmZpAxee7-E",
      "metadata": {
        "id": "5vmZpAxee7-E"
      },
      "source": [
        "It does not seem that there is a remarkable difference. Neither between the Labels, nor between the Labels and the global dataset.\n",
        "\n",
        "**In fact, usually the difference lies in the following lines. The first ones being always shared on the whole dataset.**\n",
        "\n",
        "Therefore, I invite you to display on your side the 100 or 500 most frequent words according to the `discourse_effectiveness` and tell us in comments your analysis 🔥\n",
        "\n",
        "From my personal studies, I know that verbs appear more in effective discourse. Is this true in our dataset? If so, it may be a useful clue for us."
      ]
    },
    {
      "cell_type": "markdown",
      "id": "88e68f5b",
      "metadata": {
        "id": "88e68f5b"
      },
      "source": [
        "#### **Tags Analysis**"
      ]
    },
    {
      "cell_type": "markdown",
      "id": "p0dopdz9kwYm",
      "metadata": {
        "id": "p0dopdz9kwYm"
      },
      "source": [
        "To study the occurrence of verbs, we use [NLTK tags.](https://inside-machinelearning.com/en/nltk-quickly-know-the-tag-and-their-meanings/)\n",
        "\n",
        "NLTK is an NLP library that can analyze sentences and extract tags.\n",
        "\n",
        "**For example it can identify nouns, verbs, adjectives, etc.**\n",
        "\n",
        "Perfect for us!\n",
        "\n",
        "Let’s take our words and their occurrences. We’ll create a new `word` column thanks to the indexes:"
      ]
    },
    {
      "cell_type": "code",
      "execution_count": null,
      "id": "f85f9906",
      "metadata": {
        "id": "f85f9906"
      },
      "outputs": [],
      "source": [
        "words_sum_ineffective = words_sum_ineffective.to_frame()\n",
        "words_sum_ineffective['word'] = words_sum_ineffective.index\n",
        "\n",
        "words_sum_adequate = words_sum_adequate.to_frame()\n",
        "words_sum_adequate['word'] = words_sum_adequate.index\n",
        "\n",
        "words_sum_effective = words_sum_effective.to_frame()\n",
        "words_sum_effective['word'] = words_sum_effective.index"
      ]
    },
    {
      "cell_type": "markdown",
      "id": "__ZaMQLuk8G9",
      "metadata": {
        "id": "__ZaMQLuk8G9"
      },
      "source": [
        "We now have a column representing the number of occurrences and a column representing the word.\n",
        "\n",
        "Let’s add a last column representing the tag thanks to the `pos_tag` function of `nltk.tag`:"
      ]
    },
    {
      "cell_type": "code",
      "execution_count": null,
      "id": "199ce937",
      "metadata": {
        "id": "199ce937",
        "outputId": "ecc3ee11-5fc8-4e14-98da-44096bee176f"
      },
      "outputs": [
        {
          "name": "stderr",
          "output_type": "stream",
          "text": [
            "[nltk_data] Downloading package averaged_perceptron_tagger to\n",
            "[nltk_data]     /Users/tomkeldenich/nltk_data...\n",
            "[nltk_data]   Package averaged_perceptron_tagger is already up-to-\n",
            "[nltk_data]       date!\n"
          ]
        }
      ],
      "source": [
        "from nltk import tag\n",
        "nltk.download('averaged_perceptron_tagger')\n",
        "\n",
        "words_sum_ineffective['tag'] = [x[1] for x in tag.pos_tag(words_sum_ineffective['word'])]\n",
        "words_sum_adequate['tag'] = [x[1] for x in tag.pos_tag(words_sum_adequate['word'])]\n",
        "words_sum_effective['tag'] = [x[1] for x in tag.pos_tag(words_sum_effective['word'])]"
      ]
    },
    {
      "cell_type": "markdown",
      "id": "ezYndY7xlBX6",
      "metadata": {
        "id": "ezYndY7xlBX6"
      },
      "source": [
        "Tags are very detailed. For example there are 4 types of verbs (past, present, etc) which all have a different tag. This detail is not interesting for us. Therefore we clean these tags to keep only the essential (one tag by verb, one tag by adjective etc):"
      ]
    },
    {
      "cell_type": "code",
      "execution_count": null,
      "id": "8f171f0f",
      "metadata": {
        "id": "8f171f0f"
      },
      "outputs": [],
      "source": [
        "def easyTag(x):\n",
        "    if x.startswith('VB'):\n",
        "        x = 'VB'\n",
        "    elif x.startswith('JJ'):\n",
        "        x = 'JJ'\n",
        "    elif x.startswith('RB'):\n",
        "        x = 'RB'\n",
        "    elif x.startswith('NN'):\n",
        "        x = 'NN'\n",
        "        \n",
        "    return x\n",
        "\n",
        "words_sum_ineffective['tag'] = words_sum_ineffective['tag'].apply(lambda x: easyTag(x))\n",
        "words_sum_adequate['tag'] = words_sum_adequate['tag'].apply(lambda x: easyTag(x))\n",
        "words_sum_effective['tag'] = words_sum_effective['tag'].apply(lambda x: easyTag(x))"
      ]
    },
    {
      "cell_type": "code",
      "execution_count": null,
      "id": "ec32fbf9",
      "metadata": {
        "id": "ec32fbf9",
        "outputId": "4f343926-e24a-4401-9c1a-f49416dc68f8"
      },
      "outputs": [
        {
          "data": {
            "text/html": [
              "<div>\n",
              "<style scoped>\n",
              "    .dataframe tbody tr th:only-of-type {\n",
              "        vertical-align: middle;\n",
              "    }\n",
              "\n",
              "    .dataframe tbody tr th {\n",
              "        vertical-align: top;\n",
              "    }\n",
              "\n",
              "    .dataframe thead th {\n",
              "        text-align: right;\n",
              "    }\n",
              "</style>\n",
              "<table border=\"1\" class=\"dataframe\">\n",
              "  <thead>\n",
              "    <tr style=\"text-align: right;\">\n",
              "      <th></th>\n",
              "      <th>0</th>\n",
              "      <th>word</th>\n",
              "      <th>tag</th>\n",
              "    </tr>\n",
              "  </thead>\n",
              "  <tbody>\n",
              "    <tr>\n",
              "      <th>student</th>\n",
              "      <td>2503</td>\n",
              "      <td>student</td>\n",
              "      <td>NN</td>\n",
              "    </tr>\n",
              "    <tr>\n",
              "      <th>people</th>\n",
              "      <td>1865</td>\n",
              "      <td>people</td>\n",
              "      <td>NN</td>\n",
              "    </tr>\n",
              "    <tr>\n",
              "      <th>would</th>\n",
              "      <td>1749</td>\n",
              "      <td>would</td>\n",
              "      <td>MD</td>\n",
              "    </tr>\n",
              "    <tr>\n",
              "      <th>vote</th>\n",
              "      <td>1532</td>\n",
              "      <td>vote</td>\n",
              "      <td>VB</td>\n",
              "    </tr>\n",
              "    <tr>\n",
              "      <th>electoral</th>\n",
              "      <td>1301</td>\n",
              "      <td>electoral</td>\n",
              "      <td>JJ</td>\n",
              "    </tr>\n",
              "    <tr>\n",
              "      <th>school</th>\n",
              "      <td>1258</td>\n",
              "      <td>school</td>\n",
              "      <td>NN</td>\n",
              "    </tr>\n",
              "    <tr>\n",
              "      <th>car</th>\n",
              "      <td>1143</td>\n",
              "      <td>car</td>\n",
              "      <td>NN</td>\n",
              "    </tr>\n",
              "    <tr>\n",
              "      <th>college</th>\n",
              "      <td>1135</td>\n",
              "      <td>college</td>\n",
              "      <td>NN</td>\n",
              "    </tr>\n",
              "    <tr>\n",
              "      <th>state</th>\n",
              "      <td>1052</td>\n",
              "      <td>state</td>\n",
              "      <td>NN</td>\n",
              "    </tr>\n",
              "    <tr>\n",
              "      <th>like</th>\n",
              "      <td>1042</td>\n",
              "      <td>like</td>\n",
              "      <td>IN</td>\n",
              "    </tr>\n",
              "  </tbody>\n",
              "</table>\n",
              "</div>"
            ],
            "text/plain": [
              "              0       word tag\n",
              "student    2503    student  NN\n",
              "people     1865     people  NN\n",
              "would      1749      would  MD\n",
              "vote       1532       vote  VB\n",
              "electoral  1301  electoral  JJ\n",
              "school     1258     school  NN\n",
              "car        1143        car  NN\n",
              "college    1135    college  NN\n",
              "state      1052      state  NN\n",
              "like       1042       like  IN"
            ]
          },
          "execution_count": 54,
          "metadata": {},
          "output_type": "execute_result"
        }
      ],
      "source": [
        "words_sum_ineffective.head(10)"
      ]
    },
    {
      "cell_type": "markdown",
      "id": "l-Q9xV0LlE87",
      "metadata": {
        "id": "l-Q9xV0LlE87"
      },
      "source": [
        "\n",
        "We now have a DataFrame with our tag column:\n",
        "\n",
        "- NN for nouns\n",
        "- VB for verbs\n",
        "- JJ for adjectives\n",
        "- RB for adverbs\n",
        "- … (you can consult the rest of the Tags on [our article dedicated to the subject](https://inside-machinelearning.com/en/nltk-quickly-know-the-tag-and-their-meanings/))\n",
        "\n",
        "Finally, we count the number of occurrences per Tag:"
      ]
    },
    {
      "cell_type": "code",
      "execution_count": null,
      "id": "af4b7ee3",
      "metadata": {
        "id": "af4b7ee3"
      },
      "outputs": [],
      "source": [
        "def count_tag(words_sum):\n",
        "    tag_count = []\n",
        "    for x in words_sum['tag'].unique():\n",
        "        tmp = []\n",
        "        tmp.append(x)\n",
        "        tmp.append(words_sum[words_sum['tag'] == x][0].sum())\n",
        "        tag_count.append(tmp)\n",
        "    return pd.DataFrame(tag_count, columns= ['tag','count'])\n",
        "\n",
        "tag_ineffective = count_tag(words_sum_ineffective).sort_values(by=['count'], ascending=False)\n",
        "tag_adequate = count_tag(words_sum_adequate).sort_values(by=['count'], ascending=False)\n",
        "tag_effective = count_tag(words_sum_effective).sort_values(by=['count'], ascending=False)"
      ]
    },
    {
      "cell_type": "markdown",
      "id": "8BM0SX8MlUWN",
      "metadata": {
        "id": "8BM0SX8MlUWN"
      },
      "source": [
        "And we can display the result:"
      ]
    },
    {
      "cell_type": "code",
      "execution_count": null,
      "id": "f764f20d",
      "metadata": {
        "id": "f764f20d",
        "outputId": "7f75e3bc-7912-4a53-d4c2-049d2405ad29"
      },
      "outputs": [
        {
          "data": {
            "image/png": "[encoded data removed]",
            "text/plain": [
              "<Figure size 432x576 with 3 Axes>"
            ]
          },
          "metadata": {
            "needs_background": "light"
          },
          "output_type": "display_data"
        }
      ],
      "source": [
        "plt.figure(figsize=(6,8))\n",
        "plt.subplot(3,1,1)\n",
        "sns.barplot(x=\"tag\", y=\"count\", data=tag_ineffective.iloc[:6])\n",
        "plt.title('Tag for Ineffective')\n",
        "plt.subplot(3,1,2)\n",
        "sns.barplot(x=\"tag\", y=\"count\", data=tag_adequate.iloc[:6])\n",
        "plt.title('Tag for Adequate')\n",
        "plt.subplot(3,1,3)\n",
        "sns.barplot(x=\"tag\", y=\"count\", data=tag_effective.iloc[:6])\n",
        "plt.title('Tag for Effective')\n",
        "plt.tight_layout()\n",
        "plt.show()"
      ]
    },
    {
      "cell_type": "markdown",
      "id": "7VfmgoVblVL3",
      "metadata": {
        "id": "7VfmgoVblVL3"
      },
      "source": [
        "Nouns appear most often in all types of discourse. This seems logical because they compose the majority of the sentences. However, this gives us little information.\n",
        "\n",
        "Let’s analyze the rest of the tags by omitting the nouns:\n",
        "\n"
      ]
    },
    {
      "cell_type": "code",
      "execution_count": null,
      "id": "5d2367ca",
      "metadata": {
        "id": "5d2367ca",
        "outputId": "eb256df8-2a83-471f-c8c2-c6f46b127023"
      },
      "outputs": [
        {
          "data": {
            "image/png": "[encoded data removed]",
            "text/plain": [
              "<Figure size 432x576 with 3 Axes>"
            ]
          },
          "metadata": {
            "needs_background": "light"
          },
          "output_type": "display_data"
        }
      ],
      "source": [
        "plt.figure(figsize=(6,8))\n",
        "plt.subplot(3,1,1)\n",
        "sns.barplot(x=\"tag\", y=\"count\", data=tag_ineffective.iloc[1:6], color=\"#066b8b\")\n",
        "plt.title('Tag for Ineffective')\n",
        "plt.subplot(3,1,2)\n",
        "sns.barplot(x=\"tag\", y=\"count\", data=tag_adequate.iloc[1:6], color=\"#066b8b\")\n",
        "plt.title('Tag for Adequate')\n",
        "plt.subplot(3,1,3)\n",
        "sns.barplot(x=\"tag\", y=\"count\", data=tag_effective.iloc[1:6], color=\"#066b8b\")\n",
        "plt.title('Tag for Effective')\n",
        "plt.tight_layout()\n",
        "plt.show()"
      ]
    },
    {
      "cell_type": "markdown",
      "id": "26aef527",
      "metadata": {
        "id": "26aef527"
      },
      "source": [
        "Here, the number of occurrences doesn’t matter. Since `Adequate` discourse has many more words, there will obviously be more words in each tag of this section.\n",
        "\n",
        "Here we have to look at the tag ranking.\n",
        "\n",
        "What we can see is that `Effective` discourse contains more verbs (VB) than the other types.\n",
        "\n",
        "Our hypothesis seems to be confirmed!\n",
        "\n",
        "Let’s go further by analyzing the number of verbs per speech according to the effectiveness."
      ]
    },
    {
      "cell_type": "markdown",
      "id": "FZZndydOmnLr",
      "metadata": {
        "id": "FZZndydOmnLr"
      },
      "source": [
        "#### **Average number of verbs by effectiveness**"
      ]
    },
    {
      "cell_type": "markdown",
      "id": "ee13fc6c",
      "metadata": {
        "id": "ee13fc6c"
      },
      "source": [
        "This time we apply `pos_tag` on all our words preprocessed in `df_words`.\n",
        "\n",
        "To recall this DataFrame contains one discourse per line with only the important words (without stopwords, special characters, etc). Using this DataFrame will facilitate tag counting:"
      ]
    },
    {
      "cell_type": "code",
      "execution_count": null,
      "id": "72c056f2",
      "metadata": {
        "id": "72c056f2"
      },
      "outputs": [],
      "source": [
        "list_tags = []\n",
        "for i in range(len(df_words)):\n",
        "    list_tags.append([easyTag(x[1]) for x in tag.pos_tag(df_words[i])])"
      ]
    },
    {
      "cell_type": "markdown",
      "id": "fmF8Ro-Em22v",
      "metadata": {
        "id": "fmF8Ro-Em22v"
      },
      "source": [
        "Then we count the number of verbs in each row:"
      ]
    },
    {
      "cell_type": "code",
      "execution_count": null,
      "id": "657d7179",
      "metadata": {
        "id": "657d7179"
      },
      "outputs": [],
      "source": [
        "df_tag = pd.DataFrame(columns=['VB'])\n",
        "\n",
        "for i in range(len(list_tags)):\n",
        "    df_tag = df_tag.append({'VB': list_tags[i].count('VB')}, ignore_index=True)"
      ]
    },
    {
      "cell_type": "markdown",
      "id": "rZtmdJogm45v",
      "metadata": {
        "id": "rZtmdJogm45v"
      },
      "source": [
        "We extract the `discourse_effectiveness` column and add it to df_tag:"
      ]
    },
    {
      "cell_type": "code",
      "execution_count": null,
      "id": "333d7107",
      "metadata": {
        "id": "333d7107"
      },
      "outputs": [],
      "source": [
        "df_tag['discourse_effectiveness'] = df['discourse_effectiveness']"
      ]
    },
    {
      "cell_type": "code",
      "execution_count": null,
      "id": "958aaa7c",
      "metadata": {
        "id": "958aaa7c"
      },
      "outputs": [],
      "source": [
        "df_tag.head()"
      ]
    },
    {
      "cell_type": "markdown",
      "id": "WdVX_sKnm-6Q",
      "metadata": {
        "id": "WdVX_sKnm-6Q"
      },
      "source": [
        "Finally we display the average number of verbs per effectiveness.\n",
        "\n",
        "For `Ineffective`:"
      ]
    },
    {
      "cell_type": "code",
      "execution_count": null,
      "id": "d8b41d35",
      "metadata": {
        "id": "d8b41d35"
      },
      "outputs": [],
      "source": [
        "VB_ineffective = df_tag.loc[df_tag['discourse_effectiveness'] == 'Ineffective']\n",
        "VB_ineffective['VB'].sum() / len(VB_ineffective)"
      ]
    },
    {
      "cell_type": "markdown",
      "id": "RqQcH-SknCPo",
      "metadata": {
        "id": "RqQcH-SknCPo"
      },
      "source": [
        "For `Adequate`:"
      ]
    },
    {
      "cell_type": "code",
      "execution_count": null,
      "id": "bad033bc",
      "metadata": {
        "id": "bad033bc"
      },
      "outputs": [],
      "source": [
        "VB_adequate = df_tag.loc[df_tag['discourse_effectiveness'] == 'Adequate']\n",
        "VB_adequate['VB'].sum() / len(VB_adequate)"
      ]
    },
    {
      "cell_type": "markdown",
      "id": "kE1G09eNnGdV",
      "metadata": {
        "id": "kE1G09eNnGdV"
      },
      "source": [
        "For `Effective`:"
      ]
    },
    {
      "cell_type": "code",
      "execution_count": null,
      "id": "d9b71c7d",
      "metadata": {
        "id": "d9b71c7d"
      },
      "outputs": [],
      "source": [
        "VB_effective = df_tag.loc[df_tag['discourse_effectiveness'] == 'Effective']\n",
        "VB_effective['VB'].sum() / len(VB_effective)"
      ]
    },
    {
      "cell_type": "markdown",
      "id": "OHRldjGrnJ6A",
      "metadata": {
        "id": "OHRldjGrnJ6A"
      },
      "source": [
        "Dans un discours `Effective` on décompte 5 verbe moyens utilisés. C’est 2 de plus que dans un discours `Adequate` et 1 de plus que dans un discours `Ineffective`."
      ]
    },
    {
      "cell_type": "markdown",
      "id": "06e6a333",
      "metadata": {
        "id": "06e6a333"
      },
      "source": [
        "## **Conclusion**"
      ]
    },
    {
      "cell_type": "markdown",
      "id": "0ea6cca1",
      "metadata": {
        "id": "0ea6cca1"
      },
      "source": [
        "To improve a discourse:\n",
        "- Use about 39 words\n",
        "- 5 verbs (but also adjectives)\n",
        "- Have a Lead (a statistic, a quote, a description) in your discourse to grab the reader’s attention and direct them to the thesis.\n",
        "- Avoid sharing ideas that support assertions, counter-affirmations, or rebuttals (most Evidence type discourses are ineffective).\n",
        "\n",
        "To go further, there are many analyses that can be done. Questions that we haven’t answered. For example, we could study which words make up `Lead` vs. `Evidence` discourse.\n",
        "\n",
        "Biases still remain, for example the average number of verbs is higher in `Effective` discourses but the average number of words is higher too. Is this a prerequisite to have an `Effective` discourse or is it simply a bias of the dataset?\n",
        "\n",
        "We could analyze this dataset for days and list all the biases. But now that we have a first detailed and consistent analysis, the most important thing is to take action and use a Machine Learning model to achieve the main goal: classify the students’ discourses as “effective”, “adequate” or “ineffective”!\n",
        "\n",
        "See you in a next post 😉"
      ]
    },
    {
      "cell_type": "code",
      "execution_count": null,
      "id": "ZAUayfwjnetI",
      "metadata": {
        "id": "ZAUayfwjnetI"
      },
      "outputs": [],
      "source": [
        ""
      ]
    }
  ],
  "metadata": {
    "colab": {
      "collapsed_sections": [],
      "name": "EDA_on_NLP_How_to_Do_It.ipynb",
      "provenance": [],
      "include_colab_link": true
    },
    "kernelspec": {
      "display_name": "Python 3 (ipykernel)",
      "language": "python",
      "name": "python3"
    },
    "language_info": {
      "codemirror_mode": {
        "name": "ipython",
        "version": 3
      },
      "file_extension": ".py",
      "mimetype": "text/x-python",
      "name": "python",
      "nbconvert_exporter": "python",
      "pygments_lexer": "ipython3",
      "version": "3.9.7"
    }
  },
  "nbformat": 4,
  "nbformat_minor": 5
}
